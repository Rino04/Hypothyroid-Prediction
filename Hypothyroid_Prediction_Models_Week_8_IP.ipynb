{
  "nbformat": 4,
  "nbformat_minor": 0,
  "metadata": {
    "colab": {
      "name": "Hypothyroid Prediction Models Week 8 IP.ipynb",
      "provenance": [],
      "authorship_tag": "ABX9TyNQwM/9YhtVvww/fW8obw1p",
      "include_colab_link": true
    },
    "kernelspec": {
      "name": "python3",
      "display_name": "Python 3"
    },
    "language_info": {
      "name": "python"
    }
  },
  "cells": [
    {
      "cell_type": "markdown",
      "metadata": {
        "id": "view-in-github",
        "colab_type": "text"
      },
      "source": [
        "<a href=\"https://colab.research.google.com/github/Rino04/Hypothyroid-Prediction/blob/main/Hypothyroid_Prediction_Models_Week_8_IP.ipynb\" target=\"_parent\"><img src=\"https://colab.research.google.com/assets/colab-badge.svg\" alt=\"Open In Colab\"/></a>"
      ]
    },
    {
      "cell_type": "markdown",
      "metadata": {
        "id": "IlKtX_0qad4S"
      },
      "source": [
        "# Data Understanding"
      ]
    },
    {
      "cell_type": "markdown",
      "metadata": {
        "id": "kLG2VTrnTvYL"
      },
      "source": [
        "## 1. Defining the Question"
      ]
    },
    {
      "cell_type": "markdown",
      "metadata": {
        "id": "XecOwPNorl2W"
      },
      "source": [
        "### a) Specifying the Question"
      ]
    },
    {
      "cell_type": "markdown",
      "metadata": {
        "id": "8l3-hBO6bODP"
      },
      "source": [
        "> Build a model that determines whether or not the patient's symptoms indicate that the patient has hypothyroid. \n",
        "\n"
      ]
    },
    {
      "cell_type": "markdown",
      "metadata": {
        "id": "J4wfHZwQrs-t"
      },
      "source": [
        "### b) Defining the Metric for Success"
      ]
    },
    {
      "cell_type": "markdown",
      "metadata": {
        "id": "kSKHujB2UMDT"
      },
      "source": [
        "> Creating a models that can successfully predict whether a patient's symptoms indicate that they have hypothyroid or not."
      ]
    },
    {
      "cell_type": "markdown",
      "metadata": {
        "id": "a9BPYqunry97"
      },
      "source": [
        "### c) Understanding the context "
      ]
    },
    {
      "cell_type": "markdown",
      "metadata": {
        "id": "_tSKTRiVbOCx"
      },
      "source": [
        "Hypothyroidism is a condition in which your thyroid gland doesn't produce enough of certain crucial hormones. It may not cause noticeable symptoms in the early stages. Over time, untreated hypothyroidism can cause a number of health problems, such as obesity, joint pain, infertility and heart disease.Hypothyroidism results when the thyroid gland fails to produce enough hormones.\n",
        "\n",
        "When your thyroid doesn't produce enough hormones, the balance of chemical reactions in your body can be upset. There can be a number of causes, including autoimmune disease, hyperthyroidism treatments, radiation therapy, thyroid surgery and certain medications.\n",
        "\n",
        "Your thyroid is a small, butterfly-shaped gland situated at the base of the front of your neck, just below your Adam's apple. Hormones produced by the thyroid gland — triiodothyronine (T3) and thyroxine (T4) — have an enormous impact on your health, affecting all aspects of your metabolism. These hormones also influence the control of vital functions, such as body temperature and heart rate.\n"
      ]
    },
    {
      "cell_type": "markdown",
      "metadata": {
        "id": "7KMRBJ7zr9HD"
      },
      "source": [
        "### d) Recording the Experimental Design"
      ]
    },
    {
      "cell_type": "markdown",
      "metadata": {
        "id": "KnmXXyRGUeQB"
      },
      "source": [
        "The following steps will be followed in conducting this analysis:\n",
        "1. Defining the Question\n",
        "2. Reading the Data.\n",
        "3. Data Exploration.\n",
        "4. Data Cleaning\n",
        "5. Data Analysis\n",
        "6. Prediction Models\n",
        "7. Evaluation of the solution\n",
        "8. Challenging the solution\n",
        "9. Conclusion"
      ]
    },
    {
      "cell_type": "markdown",
      "metadata": {
        "id": "zSGyg6kWsBUl"
      },
      "source": [
        "### e) Data Relevance"
      ]
    },
    {
      "cell_type": "markdown",
      "metadata": {
        "id": "MsXRX3-OUifi"
      },
      "source": [
        "The data is relevant as it will help in prediction of whether a patient suffers from hypothyroids or not. "
      ]
    },
    {
      "cell_type": "markdown",
      "metadata": {
        "id": "eZK8xMkXErgD"
      },
      "source": [
        "# Data Exploration"
      ]
    },
    {
      "cell_type": "markdown",
      "metadata": {
        "id": "c-04L3QKEy-s"
      },
      "source": [
        "## Importing Libaries"
      ]
    },
    {
      "cell_type": "code",
      "metadata": {
        "id": "jRxzxevOEygx"
      },
      "source": [
        "#Libariries for reading, manipulating, and visulizing data\n",
        "import pandas as pd\n",
        "import numpy as np\n",
        "import matplotlib.pyplot as plt\n",
        "import seaborn as sns;sns.set(font_scale=1.2)\n",
        "\n",
        "#for modelling\n",
        "from sklearn.svm import SVC\n",
        "from sklearn.svm import LinearSVC\n",
        "from sklearn.decomposition import PCA\n",
        "from sklearn.model_selection import train_test_split\n",
        "from sklearn.ensemble import AdaBoostClassifier, RandomForestClassifier, GradientBoostingClassifier\n",
        "\n",
        "\n",
        "#for metrics\n",
        "from sklearn import metrics\n",
        "from sklearn.metrics import confusion_matrix,accuracy_score\n",
        "\n",
        "#for encoding\n",
        "from sklearn.preprocessing import LabelEncoder\n",
        "from sklearn.preprocessing import StandardScaler\n",
        "\n",
        "#for warning\n",
        "import warnings\n",
        "warnings.filterwarnings(\"ignore\")"
      ],
      "execution_count": 1,
      "outputs": []
    },
    {
      "cell_type": "markdown",
      "metadata": {
        "id": "zlXUSvdjEwDp"
      },
      "source": [
        "## Loading data and Preview data"
      ]
    },
    {
      "cell_type": "code",
      "metadata": {
        "id": "keuaQJXTEqZl"
      },
      "source": [
        "#Loading the data\n",
        "health_df=pd.read_csv('/content/hypothyroid.csv')"
      ],
      "execution_count": 2,
      "outputs": []
    },
    {
      "cell_type": "code",
      "metadata": {
        "colab": {
          "base_uri": "https://localhost:8080/"
        },
        "id": "EI-5YpayG3Sk",
        "outputId": "82607e81-2e85-43d4-fe31-1740d0cc8639"
      },
      "source": [
        "#Check for info\n",
        "health_df.info()"
      ],
      "execution_count": 3,
      "outputs": [
        {
          "output_type": "stream",
          "text": [
            "<class 'pandas.core.frame.DataFrame'>\n",
            "RangeIndex: 3163 entries, 0 to 3162\n",
            "Data columns (total 26 columns):\n",
            " #   Column                     Non-Null Count  Dtype \n",
            "---  ------                     --------------  ----- \n",
            " 0   status                     3163 non-null   object\n",
            " 1   age                        3163 non-null   object\n",
            " 2   sex                        3163 non-null   object\n",
            " 3   on_thyroxine               3163 non-null   object\n",
            " 4   query_on_thyroxine         3163 non-null   object\n",
            " 5   on_antithyroid_medication  3163 non-null   object\n",
            " 6   thyroid_surgery            3163 non-null   object\n",
            " 7   query_hypothyroid          3163 non-null   object\n",
            " 8   query_hyperthyroid         3163 non-null   object\n",
            " 9   pregnant                   3163 non-null   object\n",
            " 10  sick                       3163 non-null   object\n",
            " 11  tumor                      3163 non-null   object\n",
            " 12  lithium                    3163 non-null   object\n",
            " 13  goitre                     3163 non-null   object\n",
            " 14  TSH_measured               3163 non-null   object\n",
            " 15  TSH                        3163 non-null   object\n",
            " 16  T3_measured                3163 non-null   object\n",
            " 17  T3                         3163 non-null   object\n",
            " 18  TT4_measured               3163 non-null   object\n",
            " 19  TT4                        3163 non-null   object\n",
            " 20  T4U_measured               3163 non-null   object\n",
            " 21  T4U                        3163 non-null   object\n",
            " 22  FTI_measured               3163 non-null   object\n",
            " 23  FTI                        3163 non-null   object\n",
            " 24  TBG_measured               3163 non-null   object\n",
            " 25  TBG                        3163 non-null   object\n",
            "dtypes: object(26)\n",
            "memory usage: 642.6+ KB\n"
          ],
          "name": "stdout"
        }
      ]
    },
    {
      "cell_type": "code",
      "metadata": {
        "colab": {
          "base_uri": "https://localhost:8080/"
        },
        "id": "Kn5YikMAG6Vb",
        "outputId": "952dd1de-4f94-4ff1-dca0-b94797482735"
      },
      "source": [
        "#Check the shape\n",
        "print('The data has', health_df.shape[0], 'rows and', health_df.shape[1],'columns')"
      ],
      "execution_count": 4,
      "outputs": [
        {
          "output_type": "stream",
          "text": [
            "The data has 3163 rows and 26 columns\n"
          ],
          "name": "stdout"
        }
      ]
    },
    {
      "cell_type": "code",
      "metadata": {
        "colab": {
          "base_uri": "https://localhost:8080/",
          "height": 0
        },
        "id": "IJYRiX39HOzD",
        "outputId": "48a123d2-a993-4fe2-f7f2-53b8954d78dd"
      },
      "source": [
        "#Preview the head\n",
        "health_df.head()"
      ],
      "execution_count": 5,
      "outputs": [
        {
          "output_type": "execute_result",
          "data": {
            "text/html": [
              "<div>\n",
              "<style scoped>\n",
              "    .dataframe tbody tr th:only-of-type {\n",
              "        vertical-align: middle;\n",
              "    }\n",
              "\n",
              "    .dataframe tbody tr th {\n",
              "        vertical-align: top;\n",
              "    }\n",
              "\n",
              "    .dataframe thead th {\n",
              "        text-align: right;\n",
              "    }\n",
              "</style>\n",
              "<table border=\"1\" class=\"dataframe\">\n",
              "  <thead>\n",
              "    <tr style=\"text-align: right;\">\n",
              "      <th></th>\n",
              "      <th>status</th>\n",
              "      <th>age</th>\n",
              "      <th>sex</th>\n",
              "      <th>on_thyroxine</th>\n",
              "      <th>query_on_thyroxine</th>\n",
              "      <th>on_antithyroid_medication</th>\n",
              "      <th>thyroid_surgery</th>\n",
              "      <th>query_hypothyroid</th>\n",
              "      <th>query_hyperthyroid</th>\n",
              "      <th>pregnant</th>\n",
              "      <th>sick</th>\n",
              "      <th>tumor</th>\n",
              "      <th>lithium</th>\n",
              "      <th>goitre</th>\n",
              "      <th>TSH_measured</th>\n",
              "      <th>TSH</th>\n",
              "      <th>T3_measured</th>\n",
              "      <th>T3</th>\n",
              "      <th>TT4_measured</th>\n",
              "      <th>TT4</th>\n",
              "      <th>T4U_measured</th>\n",
              "      <th>T4U</th>\n",
              "      <th>FTI_measured</th>\n",
              "      <th>FTI</th>\n",
              "      <th>TBG_measured</th>\n",
              "      <th>TBG</th>\n",
              "    </tr>\n",
              "  </thead>\n",
              "  <tbody>\n",
              "    <tr>\n",
              "      <th>0</th>\n",
              "      <td>hypothyroid</td>\n",
              "      <td>72</td>\n",
              "      <td>M</td>\n",
              "      <td>f</td>\n",
              "      <td>f</td>\n",
              "      <td>f</td>\n",
              "      <td>f</td>\n",
              "      <td>f</td>\n",
              "      <td>f</td>\n",
              "      <td>f</td>\n",
              "      <td>f</td>\n",
              "      <td>f</td>\n",
              "      <td>f</td>\n",
              "      <td>f</td>\n",
              "      <td>y</td>\n",
              "      <td>30</td>\n",
              "      <td>y</td>\n",
              "      <td>0.60</td>\n",
              "      <td>y</td>\n",
              "      <td>15</td>\n",
              "      <td>y</td>\n",
              "      <td>1.48</td>\n",
              "      <td>y</td>\n",
              "      <td>10</td>\n",
              "      <td>n</td>\n",
              "      <td>?</td>\n",
              "    </tr>\n",
              "    <tr>\n",
              "      <th>1</th>\n",
              "      <td>hypothyroid</td>\n",
              "      <td>15</td>\n",
              "      <td>F</td>\n",
              "      <td>t</td>\n",
              "      <td>f</td>\n",
              "      <td>f</td>\n",
              "      <td>f</td>\n",
              "      <td>f</td>\n",
              "      <td>f</td>\n",
              "      <td>f</td>\n",
              "      <td>f</td>\n",
              "      <td>f</td>\n",
              "      <td>f</td>\n",
              "      <td>f</td>\n",
              "      <td>y</td>\n",
              "      <td>145</td>\n",
              "      <td>y</td>\n",
              "      <td>1.70</td>\n",
              "      <td>y</td>\n",
              "      <td>19</td>\n",
              "      <td>y</td>\n",
              "      <td>1.13</td>\n",
              "      <td>y</td>\n",
              "      <td>17</td>\n",
              "      <td>n</td>\n",
              "      <td>?</td>\n",
              "    </tr>\n",
              "    <tr>\n",
              "      <th>2</th>\n",
              "      <td>hypothyroid</td>\n",
              "      <td>24</td>\n",
              "      <td>M</td>\n",
              "      <td>f</td>\n",
              "      <td>f</td>\n",
              "      <td>f</td>\n",
              "      <td>f</td>\n",
              "      <td>f</td>\n",
              "      <td>f</td>\n",
              "      <td>f</td>\n",
              "      <td>f</td>\n",
              "      <td>f</td>\n",
              "      <td>f</td>\n",
              "      <td>f</td>\n",
              "      <td>y</td>\n",
              "      <td>0</td>\n",
              "      <td>y</td>\n",
              "      <td>0.20</td>\n",
              "      <td>y</td>\n",
              "      <td>4</td>\n",
              "      <td>y</td>\n",
              "      <td>1</td>\n",
              "      <td>y</td>\n",
              "      <td>0</td>\n",
              "      <td>n</td>\n",
              "      <td>?</td>\n",
              "    </tr>\n",
              "    <tr>\n",
              "      <th>3</th>\n",
              "      <td>hypothyroid</td>\n",
              "      <td>24</td>\n",
              "      <td>F</td>\n",
              "      <td>f</td>\n",
              "      <td>f</td>\n",
              "      <td>f</td>\n",
              "      <td>f</td>\n",
              "      <td>f</td>\n",
              "      <td>f</td>\n",
              "      <td>f</td>\n",
              "      <td>f</td>\n",
              "      <td>f</td>\n",
              "      <td>f</td>\n",
              "      <td>f</td>\n",
              "      <td>y</td>\n",
              "      <td>430</td>\n",
              "      <td>y</td>\n",
              "      <td>0.40</td>\n",
              "      <td>y</td>\n",
              "      <td>6</td>\n",
              "      <td>y</td>\n",
              "      <td>1.04</td>\n",
              "      <td>y</td>\n",
              "      <td>6</td>\n",
              "      <td>n</td>\n",
              "      <td>?</td>\n",
              "    </tr>\n",
              "    <tr>\n",
              "      <th>4</th>\n",
              "      <td>hypothyroid</td>\n",
              "      <td>77</td>\n",
              "      <td>M</td>\n",
              "      <td>f</td>\n",
              "      <td>f</td>\n",
              "      <td>f</td>\n",
              "      <td>f</td>\n",
              "      <td>f</td>\n",
              "      <td>f</td>\n",
              "      <td>f</td>\n",
              "      <td>f</td>\n",
              "      <td>f</td>\n",
              "      <td>f</td>\n",
              "      <td>f</td>\n",
              "      <td>y</td>\n",
              "      <td>7.30</td>\n",
              "      <td>y</td>\n",
              "      <td>1.20</td>\n",
              "      <td>y</td>\n",
              "      <td>57</td>\n",
              "      <td>y</td>\n",
              "      <td>1.28</td>\n",
              "      <td>y</td>\n",
              "      <td>44</td>\n",
              "      <td>n</td>\n",
              "      <td>?</td>\n",
              "    </tr>\n",
              "  </tbody>\n",
              "</table>\n",
              "</div>"
            ],
            "text/plain": [
              "        status age sex on_thyroxine  ... FTI_measured FTI TBG_measured TBG\n",
              "0  hypothyroid  72   M            f  ...            y  10            n   ?\n",
              "1  hypothyroid  15   F            t  ...            y  17            n   ?\n",
              "2  hypothyroid  24   M            f  ...            y   0            n   ?\n",
              "3  hypothyroid  24   F            f  ...            y   6            n   ?\n",
              "4  hypothyroid  77   M            f  ...            y  44            n   ?\n",
              "\n",
              "[5 rows x 26 columns]"
            ]
          },
          "metadata": {
            "tags": []
          },
          "execution_count": 5
        }
      ]
    },
    {
      "cell_type": "code",
      "metadata": {
        "colab": {
          "base_uri": "https://localhost:8080/",
          "height": 0
        },
        "id": "v5SNNE0jHVkn",
        "outputId": "009b382a-76b3-479e-ec76-42801f1aa045"
      },
      "source": [
        "#Preview the tail\n",
        "health_df.tail()"
      ],
      "execution_count": 6,
      "outputs": [
        {
          "output_type": "execute_result",
          "data": {
            "text/html": [
              "<div>\n",
              "<style scoped>\n",
              "    .dataframe tbody tr th:only-of-type {\n",
              "        vertical-align: middle;\n",
              "    }\n",
              "\n",
              "    .dataframe tbody tr th {\n",
              "        vertical-align: top;\n",
              "    }\n",
              "\n",
              "    .dataframe thead th {\n",
              "        text-align: right;\n",
              "    }\n",
              "</style>\n",
              "<table border=\"1\" class=\"dataframe\">\n",
              "  <thead>\n",
              "    <tr style=\"text-align: right;\">\n",
              "      <th></th>\n",
              "      <th>status</th>\n",
              "      <th>age</th>\n",
              "      <th>sex</th>\n",
              "      <th>on_thyroxine</th>\n",
              "      <th>query_on_thyroxine</th>\n",
              "      <th>on_antithyroid_medication</th>\n",
              "      <th>thyroid_surgery</th>\n",
              "      <th>query_hypothyroid</th>\n",
              "      <th>query_hyperthyroid</th>\n",
              "      <th>pregnant</th>\n",
              "      <th>sick</th>\n",
              "      <th>tumor</th>\n",
              "      <th>lithium</th>\n",
              "      <th>goitre</th>\n",
              "      <th>TSH_measured</th>\n",
              "      <th>TSH</th>\n",
              "      <th>T3_measured</th>\n",
              "      <th>T3</th>\n",
              "      <th>TT4_measured</th>\n",
              "      <th>TT4</th>\n",
              "      <th>T4U_measured</th>\n",
              "      <th>T4U</th>\n",
              "      <th>FTI_measured</th>\n",
              "      <th>FTI</th>\n",
              "      <th>TBG_measured</th>\n",
              "      <th>TBG</th>\n",
              "    </tr>\n",
              "  </thead>\n",
              "  <tbody>\n",
              "    <tr>\n",
              "      <th>3158</th>\n",
              "      <td>negative</td>\n",
              "      <td>58</td>\n",
              "      <td>F</td>\n",
              "      <td>f</td>\n",
              "      <td>f</td>\n",
              "      <td>f</td>\n",
              "      <td>f</td>\n",
              "      <td>f</td>\n",
              "      <td>f</td>\n",
              "      <td>f</td>\n",
              "      <td>f</td>\n",
              "      <td>f</td>\n",
              "      <td>f</td>\n",
              "      <td>f</td>\n",
              "      <td>y</td>\n",
              "      <td>5.80</td>\n",
              "      <td>y</td>\n",
              "      <td>1.70</td>\n",
              "      <td>y</td>\n",
              "      <td>86</td>\n",
              "      <td>y</td>\n",
              "      <td>0.91</td>\n",
              "      <td>y</td>\n",
              "      <td>95</td>\n",
              "      <td>n</td>\n",
              "      <td>?</td>\n",
              "    </tr>\n",
              "    <tr>\n",
              "      <th>3159</th>\n",
              "      <td>negative</td>\n",
              "      <td>29</td>\n",
              "      <td>F</td>\n",
              "      <td>f</td>\n",
              "      <td>f</td>\n",
              "      <td>f</td>\n",
              "      <td>f</td>\n",
              "      <td>f</td>\n",
              "      <td>f</td>\n",
              "      <td>f</td>\n",
              "      <td>f</td>\n",
              "      <td>f</td>\n",
              "      <td>f</td>\n",
              "      <td>f</td>\n",
              "      <td>y</td>\n",
              "      <td>0.80</td>\n",
              "      <td>y</td>\n",
              "      <td>1.80</td>\n",
              "      <td>y</td>\n",
              "      <td>99</td>\n",
              "      <td>y</td>\n",
              "      <td>1.01</td>\n",
              "      <td>y</td>\n",
              "      <td>98</td>\n",
              "      <td>n</td>\n",
              "      <td>?</td>\n",
              "    </tr>\n",
              "    <tr>\n",
              "      <th>3160</th>\n",
              "      <td>negative</td>\n",
              "      <td>77</td>\n",
              "      <td>M</td>\n",
              "      <td>f</td>\n",
              "      <td>f</td>\n",
              "      <td>f</td>\n",
              "      <td>f</td>\n",
              "      <td>f</td>\n",
              "      <td>f</td>\n",
              "      <td>f</td>\n",
              "      <td>f</td>\n",
              "      <td>f</td>\n",
              "      <td>f</td>\n",
              "      <td>f</td>\n",
              "      <td>y</td>\n",
              "      <td>1.20</td>\n",
              "      <td>y</td>\n",
              "      <td>0.60</td>\n",
              "      <td>y</td>\n",
              "      <td>71</td>\n",
              "      <td>y</td>\n",
              "      <td>0.68</td>\n",
              "      <td>y</td>\n",
              "      <td>104</td>\n",
              "      <td>n</td>\n",
              "      <td>?</td>\n",
              "    </tr>\n",
              "    <tr>\n",
              "      <th>3161</th>\n",
              "      <td>negative</td>\n",
              "      <td>74</td>\n",
              "      <td>F</td>\n",
              "      <td>f</td>\n",
              "      <td>f</td>\n",
              "      <td>f</td>\n",
              "      <td>f</td>\n",
              "      <td>f</td>\n",
              "      <td>f</td>\n",
              "      <td>f</td>\n",
              "      <td>f</td>\n",
              "      <td>f</td>\n",
              "      <td>f</td>\n",
              "      <td>f</td>\n",
              "      <td>y</td>\n",
              "      <td>1.30</td>\n",
              "      <td>y</td>\n",
              "      <td>0.10</td>\n",
              "      <td>y</td>\n",
              "      <td>65</td>\n",
              "      <td>y</td>\n",
              "      <td>0.48</td>\n",
              "      <td>y</td>\n",
              "      <td>137</td>\n",
              "      <td>n</td>\n",
              "      <td>?</td>\n",
              "    </tr>\n",
              "    <tr>\n",
              "      <th>3162</th>\n",
              "      <td>negative</td>\n",
              "      <td>56</td>\n",
              "      <td>F</td>\n",
              "      <td>t</td>\n",
              "      <td>f</td>\n",
              "      <td>f</td>\n",
              "      <td>f</td>\n",
              "      <td>f</td>\n",
              "      <td>f</td>\n",
              "      <td>f</td>\n",
              "      <td>f</td>\n",
              "      <td>f</td>\n",
              "      <td>f</td>\n",
              "      <td>f</td>\n",
              "      <td>y</td>\n",
              "      <td>0</td>\n",
              "      <td>y</td>\n",
              "      <td>1.80</td>\n",
              "      <td>y</td>\n",
              "      <td>139</td>\n",
              "      <td>y</td>\n",
              "      <td>0.97</td>\n",
              "      <td>y</td>\n",
              "      <td>143</td>\n",
              "      <td>n</td>\n",
              "      <td>?</td>\n",
              "    </tr>\n",
              "  </tbody>\n",
              "</table>\n",
              "</div>"
            ],
            "text/plain": [
              "        status age sex on_thyroxine  ... FTI_measured  FTI TBG_measured TBG\n",
              "3158  negative  58   F            f  ...            y   95            n   ?\n",
              "3159  negative  29   F            f  ...            y   98            n   ?\n",
              "3160  negative  77   M            f  ...            y  104            n   ?\n",
              "3161  negative  74   F            f  ...            y  137            n   ?\n",
              "3162  negative  56   F            t  ...            y  143            n   ?\n",
              "\n",
              "[5 rows x 26 columns]"
            ]
          },
          "metadata": {
            "tags": []
          },
          "execution_count": 6
        }
      ]
    },
    {
      "cell_type": "code",
      "metadata": {
        "colab": {
          "base_uri": "https://localhost:8080/"
        },
        "id": "2xnTZh_dHbKA",
        "outputId": "80ba3c06-fbfc-4dd4-ea6c-60394942e574"
      },
      "source": [
        "health_df.dtypes"
      ],
      "execution_count": 7,
      "outputs": [
        {
          "output_type": "execute_result",
          "data": {
            "text/plain": [
              "status                       object\n",
              "age                          object\n",
              "sex                          object\n",
              "on_thyroxine                 object\n",
              "query_on_thyroxine           object\n",
              "on_antithyroid_medication    object\n",
              "thyroid_surgery              object\n",
              "query_hypothyroid            object\n",
              "query_hyperthyroid           object\n",
              "pregnant                     object\n",
              "sick                         object\n",
              "tumor                        object\n",
              "lithium                      object\n",
              "goitre                       object\n",
              "TSH_measured                 object\n",
              "TSH                          object\n",
              "T3_measured                  object\n",
              "T3                           object\n",
              "TT4_measured                 object\n",
              "TT4                          object\n",
              "T4U_measured                 object\n",
              "T4U                          object\n",
              "FTI_measured                 object\n",
              "FTI                          object\n",
              "TBG_measured                 object\n",
              "TBG                          object\n",
              "dtype: object"
            ]
          },
          "metadata": {
            "tags": []
          },
          "execution_count": 7
        }
      ]
    },
    {
      "cell_type": "markdown",
      "metadata": {
        "id": "6MbVYxf5IGwB"
      },
      "source": [
        "# Data Cleaning"
      ]
    },
    {
      "cell_type": "markdown",
      "metadata": {
        "id": "oRMGM1NdM6TF"
      },
      "source": [
        "### Uniformity"
      ]
    },
    {
      "cell_type": "code",
      "metadata": {
        "colab": {
          "base_uri": "https://localhost:8080/"
        },
        "id": "Z8B5D8HMM5qJ",
        "outputId": "ac85eb88-e217-4dae-df1c-91788443893a"
      },
      "source": [
        "#We shall have the our column names written in pascal format\n",
        "health_df.columns=health_df.columns.str.strip().str.lower().str.replace(' ','_').str.replace('(','').str.replace(')','')\n",
        "health_df.columns"
      ],
      "execution_count": 8,
      "outputs": [
        {
          "output_type": "execute_result",
          "data": {
            "text/plain": [
              "Index(['status', 'age', 'sex', 'on_thyroxine', 'query_on_thyroxine',\n",
              "       'on_antithyroid_medication', 'thyroid_surgery', 'query_hypothyroid',\n",
              "       'query_hyperthyroid', 'pregnant', 'sick', 'tumor', 'lithium', 'goitre',\n",
              "       'tsh_measured', 'tsh', 't3_measured', 't3', 'tt4_measured', 'tt4',\n",
              "       't4u_measured', 't4u', 'fti_measured', 'fti', 'tbg_measured', 'tbg'],\n",
              "      dtype='object')"
            ]
          },
          "metadata": {
            "tags": []
          },
          "execution_count": 8
        }
      ]
    },
    {
      "cell_type": "code",
      "metadata": {
        "colab": {
          "base_uri": "https://localhost:8080/",
          "height": 0
        },
        "id": "R-iAwFKZPf4W",
        "outputId": "cf18916e-0cb0-46cb-a60c-9bbe722a9922"
      },
      "source": [
        "health_df.head()"
      ],
      "execution_count": 9,
      "outputs": [
        {
          "output_type": "execute_result",
          "data": {
            "text/html": [
              "<div>\n",
              "<style scoped>\n",
              "    .dataframe tbody tr th:only-of-type {\n",
              "        vertical-align: middle;\n",
              "    }\n",
              "\n",
              "    .dataframe tbody tr th {\n",
              "        vertical-align: top;\n",
              "    }\n",
              "\n",
              "    .dataframe thead th {\n",
              "        text-align: right;\n",
              "    }\n",
              "</style>\n",
              "<table border=\"1\" class=\"dataframe\">\n",
              "  <thead>\n",
              "    <tr style=\"text-align: right;\">\n",
              "      <th></th>\n",
              "      <th>status</th>\n",
              "      <th>age</th>\n",
              "      <th>sex</th>\n",
              "      <th>on_thyroxine</th>\n",
              "      <th>query_on_thyroxine</th>\n",
              "      <th>on_antithyroid_medication</th>\n",
              "      <th>thyroid_surgery</th>\n",
              "      <th>query_hypothyroid</th>\n",
              "      <th>query_hyperthyroid</th>\n",
              "      <th>pregnant</th>\n",
              "      <th>sick</th>\n",
              "      <th>tumor</th>\n",
              "      <th>lithium</th>\n",
              "      <th>goitre</th>\n",
              "      <th>tsh_measured</th>\n",
              "      <th>tsh</th>\n",
              "      <th>t3_measured</th>\n",
              "      <th>t3</th>\n",
              "      <th>tt4_measured</th>\n",
              "      <th>tt4</th>\n",
              "      <th>t4u_measured</th>\n",
              "      <th>t4u</th>\n",
              "      <th>fti_measured</th>\n",
              "      <th>fti</th>\n",
              "      <th>tbg_measured</th>\n",
              "      <th>tbg</th>\n",
              "    </tr>\n",
              "  </thead>\n",
              "  <tbody>\n",
              "    <tr>\n",
              "      <th>0</th>\n",
              "      <td>hypothyroid</td>\n",
              "      <td>72</td>\n",
              "      <td>M</td>\n",
              "      <td>f</td>\n",
              "      <td>f</td>\n",
              "      <td>f</td>\n",
              "      <td>f</td>\n",
              "      <td>f</td>\n",
              "      <td>f</td>\n",
              "      <td>f</td>\n",
              "      <td>f</td>\n",
              "      <td>f</td>\n",
              "      <td>f</td>\n",
              "      <td>f</td>\n",
              "      <td>y</td>\n",
              "      <td>30</td>\n",
              "      <td>y</td>\n",
              "      <td>0.60</td>\n",
              "      <td>y</td>\n",
              "      <td>15</td>\n",
              "      <td>y</td>\n",
              "      <td>1.48</td>\n",
              "      <td>y</td>\n",
              "      <td>10</td>\n",
              "      <td>n</td>\n",
              "      <td>?</td>\n",
              "    </tr>\n",
              "    <tr>\n",
              "      <th>1</th>\n",
              "      <td>hypothyroid</td>\n",
              "      <td>15</td>\n",
              "      <td>F</td>\n",
              "      <td>t</td>\n",
              "      <td>f</td>\n",
              "      <td>f</td>\n",
              "      <td>f</td>\n",
              "      <td>f</td>\n",
              "      <td>f</td>\n",
              "      <td>f</td>\n",
              "      <td>f</td>\n",
              "      <td>f</td>\n",
              "      <td>f</td>\n",
              "      <td>f</td>\n",
              "      <td>y</td>\n",
              "      <td>145</td>\n",
              "      <td>y</td>\n",
              "      <td>1.70</td>\n",
              "      <td>y</td>\n",
              "      <td>19</td>\n",
              "      <td>y</td>\n",
              "      <td>1.13</td>\n",
              "      <td>y</td>\n",
              "      <td>17</td>\n",
              "      <td>n</td>\n",
              "      <td>?</td>\n",
              "    </tr>\n",
              "    <tr>\n",
              "      <th>2</th>\n",
              "      <td>hypothyroid</td>\n",
              "      <td>24</td>\n",
              "      <td>M</td>\n",
              "      <td>f</td>\n",
              "      <td>f</td>\n",
              "      <td>f</td>\n",
              "      <td>f</td>\n",
              "      <td>f</td>\n",
              "      <td>f</td>\n",
              "      <td>f</td>\n",
              "      <td>f</td>\n",
              "      <td>f</td>\n",
              "      <td>f</td>\n",
              "      <td>f</td>\n",
              "      <td>y</td>\n",
              "      <td>0</td>\n",
              "      <td>y</td>\n",
              "      <td>0.20</td>\n",
              "      <td>y</td>\n",
              "      <td>4</td>\n",
              "      <td>y</td>\n",
              "      <td>1</td>\n",
              "      <td>y</td>\n",
              "      <td>0</td>\n",
              "      <td>n</td>\n",
              "      <td>?</td>\n",
              "    </tr>\n",
              "    <tr>\n",
              "      <th>3</th>\n",
              "      <td>hypothyroid</td>\n",
              "      <td>24</td>\n",
              "      <td>F</td>\n",
              "      <td>f</td>\n",
              "      <td>f</td>\n",
              "      <td>f</td>\n",
              "      <td>f</td>\n",
              "      <td>f</td>\n",
              "      <td>f</td>\n",
              "      <td>f</td>\n",
              "      <td>f</td>\n",
              "      <td>f</td>\n",
              "      <td>f</td>\n",
              "      <td>f</td>\n",
              "      <td>y</td>\n",
              "      <td>430</td>\n",
              "      <td>y</td>\n",
              "      <td>0.40</td>\n",
              "      <td>y</td>\n",
              "      <td>6</td>\n",
              "      <td>y</td>\n",
              "      <td>1.04</td>\n",
              "      <td>y</td>\n",
              "      <td>6</td>\n",
              "      <td>n</td>\n",
              "      <td>?</td>\n",
              "    </tr>\n",
              "    <tr>\n",
              "      <th>4</th>\n",
              "      <td>hypothyroid</td>\n",
              "      <td>77</td>\n",
              "      <td>M</td>\n",
              "      <td>f</td>\n",
              "      <td>f</td>\n",
              "      <td>f</td>\n",
              "      <td>f</td>\n",
              "      <td>f</td>\n",
              "      <td>f</td>\n",
              "      <td>f</td>\n",
              "      <td>f</td>\n",
              "      <td>f</td>\n",
              "      <td>f</td>\n",
              "      <td>f</td>\n",
              "      <td>y</td>\n",
              "      <td>7.30</td>\n",
              "      <td>y</td>\n",
              "      <td>1.20</td>\n",
              "      <td>y</td>\n",
              "      <td>57</td>\n",
              "      <td>y</td>\n",
              "      <td>1.28</td>\n",
              "      <td>y</td>\n",
              "      <td>44</td>\n",
              "      <td>n</td>\n",
              "      <td>?</td>\n",
              "    </tr>\n",
              "  </tbody>\n",
              "</table>\n",
              "</div>"
            ],
            "text/plain": [
              "        status age sex on_thyroxine  ... fti_measured fti tbg_measured tbg\n",
              "0  hypothyroid  72   M            f  ...            y  10            n   ?\n",
              "1  hypothyroid  15   F            t  ...            y  17            n   ?\n",
              "2  hypothyroid  24   M            f  ...            y   0            n   ?\n",
              "3  hypothyroid  24   F            f  ...            y   6            n   ?\n",
              "4  hypothyroid  77   M            f  ...            y  44            n   ?\n",
              "\n",
              "[5 rows x 26 columns]"
            ]
          },
          "metadata": {
            "tags": []
          },
          "execution_count": 9
        }
      ]
    },
    {
      "cell_type": "code",
      "metadata": {
        "id": "58Upwx-lOnuq"
      },
      "source": [
        "#Lets replice where we have ? with NAN value\n",
        "health_df.replace(to_replace='?', inplace=True, value=np.NaN)"
      ],
      "execution_count": 10,
      "outputs": []
    },
    {
      "cell_type": "code",
      "metadata": {
        "colab": {
          "base_uri": "https://localhost:8080/"
        },
        "id": "DIoUtk0DPPOt",
        "outputId": "c13e5a3a-137c-4bd8-fb5e-f5db15e39b77"
      },
      "source": [
        "#The dtype of our columns are object. \n",
        "cat_cols = ['sex', 'on_thyroxine','query_on_thyroxine','on_antithyroid_medication',\n",
        "                       'thyroid_surgery','query_hypothyroid','query_hyperthyroid', 'pregnant',\n",
        "                       'sick','tumor', 'lithium', 'goitre', 'tsh_measured', 't3_measured', \n",
        "                       'tt4_measured', 't4U_measured', 'fti_measured']\n",
        "\n",
        "# Numerical columns array \n",
        "num_cols = ['age','tsh','t3', 'tt4', 't4u', 'fti']\n",
        "\n",
        "\n",
        "# We shall convert the numeric columns to floats and categoricals columns to category\n",
        "\n",
        "for col in health_df.columns:\n",
        "  if col in num_cols:\n",
        "    health_df[col] = pd.to_numeric(health_df[col])\n",
        "  else:\n",
        "    health_df[col] = health_df[col].astype('category')\n",
        "\n",
        "# check to confirm\n",
        "health_df.dtypes\n",
        "# We have now fixed the dtype for each"
      ],
      "execution_count": 11,
      "outputs": [
        {
          "output_type": "execute_result",
          "data": {
            "text/plain": [
              "status                       category\n",
              "age                           float64\n",
              "sex                          category\n",
              "on_thyroxine                 category\n",
              "query_on_thyroxine           category\n",
              "on_antithyroid_medication    category\n",
              "thyroid_surgery              category\n",
              "query_hypothyroid            category\n",
              "query_hyperthyroid           category\n",
              "pregnant                     category\n",
              "sick                         category\n",
              "tumor                        category\n",
              "lithium                      category\n",
              "goitre                       category\n",
              "tsh_measured                 category\n",
              "tsh                           float64\n",
              "t3_measured                  category\n",
              "t3                            float64\n",
              "tt4_measured                 category\n",
              "tt4                           float64\n",
              "t4u_measured                 category\n",
              "t4u                           float64\n",
              "fti_measured                 category\n",
              "fti                           float64\n",
              "tbg_measured                 category\n",
              "tbg                          category\n",
              "dtype: object"
            ]
          },
          "metadata": {
            "tags": []
          },
          "execution_count": 11
        }
      ]
    },
    {
      "cell_type": "code",
      "metadata": {
        "colab": {
          "base_uri": "https://localhost:8080/"
        },
        "id": "IhsapBvmQWJz",
        "outputId": "305d876d-daa3-475c-805b-ff597826b4ee"
      },
      "source": [
        "#Lets check for unique values for each column\n",
        "for col in list(health_df):\n",
        "    print(col)\n",
        "    print(health_df[col].unique())\n",
        "    print(\"******\")"
      ],
      "execution_count": 12,
      "outputs": [
        {
          "output_type": "stream",
          "text": [
            "status\n",
            "['hypothyroid', 'negative']\n",
            "Categories (2, object): ['hypothyroid', 'negative']\n",
            "******\n",
            "age\n",
            "[72. 15. 24. 77. 85. 64. 20. 42. 69. 75. 53. 59. 68. 50. 78. 65. 28. 43.\n",
            " 40. 84. nan 83. 63. 73. 36. 27. 48. 71. 60. 34. 79. 62. 74. 32. 41. 70.\n",
            " 29.  5. 58. 35. 51. 22. 16. 44. 39. 47. 18. 17. 88. 56. 30. 45. 66. 52.\n",
            " 54. 80. 33. 38. 92. 67. 46. 13. 89. 61. 49. 26. 57. 31. 90. 81. 25. 37.\n",
            " 76. 87. 23. 55. 86. 98. 21. 97.  1.  6. 14. 82. 11. 19.  9. 12. 10.  8.\n",
            "  7.  4. 93.]\n",
            "******\n",
            "sex\n",
            "['M', 'F', NaN]\n",
            "Categories (2, object): ['M', 'F']\n",
            "******\n",
            "on_thyroxine\n",
            "['f', 't']\n",
            "Categories (2, object): ['f', 't']\n",
            "******\n",
            "query_on_thyroxine\n",
            "['f', 't']\n",
            "Categories (2, object): ['f', 't']\n",
            "******\n",
            "on_antithyroid_medication\n",
            "['f', 't']\n",
            "Categories (2, object): ['f', 't']\n",
            "******\n",
            "thyroid_surgery\n",
            "['f', 't']\n",
            "Categories (2, object): ['f', 't']\n",
            "******\n",
            "query_hypothyroid\n",
            "['f', 't']\n",
            "Categories (2, object): ['f', 't']\n",
            "******\n",
            "query_hyperthyroid\n",
            "['f', 't']\n",
            "Categories (2, object): ['f', 't']\n",
            "******\n",
            "pregnant\n",
            "['f', 't']\n",
            "Categories (2, object): ['f', 't']\n",
            "******\n",
            "sick\n",
            "['f', 't']\n",
            "Categories (2, object): ['f', 't']\n",
            "******\n",
            "tumor\n",
            "['f', 't']\n",
            "Categories (2, object): ['f', 't']\n",
            "******\n",
            "lithium\n",
            "['f', 't']\n",
            "Categories (2, object): ['f', 't']\n",
            "******\n",
            "goitre\n",
            "['f', 't']\n",
            "Categories (2, object): ['f', 't']\n",
            "******\n",
            "tsh_measured\n",
            "['y', 'n']\n",
            "Categories (2, object): ['y', 'n']\n",
            "******\n",
            "tsh\n",
            "[3.00e+01 1.45e+02 0.00e+00 4.30e+02 7.30e+00 1.38e+02 7.70e+00 2.10e+01\n",
            " 9.20e+01 4.80e+01 3.60e+01 1.50e+01 1.53e+01 2.50e+01 6.10e+01 2.80e+01\n",
            " 1.70e+02 5.40e+01 2.16e+02 5.60e+01 7.10e+01 4.60e+01 7.00e+01 3.40e+01\n",
            " 5.30e+01 9.40e+00 1.26e+02 1.00e+01 5.30e+02 3.50e+01 6.50e+01 5.70e+01\n",
            " 1.25e+02 2.30e+01 8.00e+01 1.17e+02 4.90e+01 6.60e+01 8.20e+00 1.50e+02\n",
            "      nan 1.80e+01 1.65e+02 1.64e+02 2.40e+01 9.00e+01 7.70e+01 1.90e+01\n",
            " 5.80e+01 1.00e+02 2.13e+02 1.70e+01 2.35e+02 1.53e+02 1.30e+01 3.10e+01\n",
            " 1.09e+02 2.60e+02 4.30e+01 1.20e+01 1.10e+01 5.50e+01 6.50e+00 2.00e+01\n",
            " 7.50e+00 1.40e+01 6.00e+01 1.40e+02 3.30e+01 8.70e+00 2.50e-01 1.07e+01\n",
            " 8.20e+01 4.50e+01 4.20e+01 4.10e+01 1.60e+02 1.60e+01 8.90e+01 4.40e+01\n",
            " 1.76e+02 6.40e+00 1.83e+02 2.90e+01 3.70e+01 3.90e+01 7.90e+00 5.90e+01\n",
            " 6.80e+01 3.80e+01 4.70e+01 1.43e+02 6.60e+00 2.88e+02 9.60e+01 5.00e-01\n",
            " 1.20e+00 1.90e+00 9.00e-02 3.10e+00 4.00e-01 8.50e-01 3.00e-01 9.00e-01\n",
            " 1.50e+00 4.60e+00 2.00e-01 5.80e+00 4.00e+00 1.40e+00 2.00e+00 2.60e+00\n",
            " 2.90e+00 8.00e-01 4.90e+00 1.03e+01 2.30e+00 7.00e-01 6.00e-01 1.30e+00\n",
            " 2.50e+00 5.10e+00 1.70e+00 2.70e+00 2.20e+01 8.10e+00 3.30e+00 5.00e+00\n",
            " 3.20e+00 1.80e+00 1.10e+00 4.60e-01 1.00e+00 5.60e+00 4.40e+00 1.65e+01\n",
            " 2.10e+00 6.30e+00 5.50e+00 7.40e+00 5.90e+00 1.50e-01 1.49e+01 2.20e+00\n",
            " 9.70e+00 9.60e+00 1.60e+00 3.70e+00 3.00e+00 2.80e+00 1.00e-01 4.20e+00\n",
            " 2.70e+01 3.50e+00 5.00e-02 1.92e+01 8.00e+00 9.10e+00 3.60e+00 7.80e+00\n",
            " 3.80e+00 8.50e+00 9.20e+00 5.20e+01 2.40e+00 3.90e+00 3.00e-02 4.00e-02\n",
            " 2.60e+01 6.10e+00 6.50e-01 9.20e-01 7.60e+00 8.40e+00 1.44e+01 1.05e+00\n",
            " 3.70e-01 1.78e+02 6.90e+00 4.50e+00 4.70e+00 4.00e+01 6.00e+00 4.10e+00\n",
            " 1.43e+01 5.40e+00 8.30e+00 6.00e-02 8.80e+00 8.90e+00 7.10e+00 4.80e+00\n",
            " 4.30e-01 6.70e+00 2.00e+02 8.60e+00 8.60e+01 2.10e-01 9.00e+00 2.60e-01\n",
            " 3.40e+00 6.20e+00 1.74e+01 8.50e+01 1.83e+00 6.30e+01 1.33e+01 2.00e-02\n",
            " 4.20e-01 9.50e+00 8.40e-01 8.80e-01 4.30e+00 6.70e-01 8.10e-01 5.20e+00\n",
            " 9.80e+00 7.60e+01 6.20e-01 1.00e-02 1.14e+01 8.80e+01 6.80e-01 7.00e-02\n",
            " 6.90e-01 7.70e-01 9.90e+00 6.40e-01 1.32e+01 6.80e+00 2.80e-01 1.16e+01\n",
            " 9.10e-01 1.01e+00 2.30e-01 3.50e-01 5.00e+01 3.20e+01 8.30e-01 8.00e-02]\n",
            "******\n",
            "t3_measured\n",
            "['y', 'n']\n",
            "Categories (2, object): ['y', 'n']\n",
            "******\n",
            "t3\n",
            "[ 0.6   1.7   0.2   0.4   1.2   1.1   1.3   1.9    nan  0.8   2.2   1.5\n",
            "  2.7   2.    0.3   2.1   0.5   0.7   1.    1.4   2.3   2.4   0.9   1.8\n",
            "  0.    2.8   1.6   6.7   3.3   3.    2.5   2.6   4.    9.8   3.9   3.4\n",
            "  3.8   4.5   3.2   3.7   4.3   2.9   3.1   3.5   3.6   6.6   4.9   8.9\n",
            "  4.1   5.    5.3   7.6   7.3   4.2   4.4   5.1   7.    0.1   0.05  4.7\n",
            "  6.2   5.5   4.6   6.1   8.1   5.2   5.6   4.8  10.2   8.6 ]\n",
            "******\n",
            "tt4_measured\n",
            "['y', 'n']\n",
            "Categories (2, object): ['y', 'n']\n",
            "******\n",
            "tt4\n",
            "[ 15.   19.    4.    6.   57.   27.   54.   34.   39.    7.6  53.   38.\n",
            "  98.   44.   37.   81.   13.   17.   12.   50.   23.   14.    3.9  52.\n",
            "  32.   30.   84.   10.   55.   24.   28.   11.    6.6  31.   33.   41.\n",
            "   9.   78.   42.    8.1  65.   16.    9.7  46.   22.   61.    2.3  21.\n",
            "   7.5  18.   66.   25.   43.    2.    3.   58.   59.   71.   74.   56.\n",
            "  40.   20.   48.  230.   70.    4.1  63.    5.3   2.9  62.   75.   68.\n",
            "  45.   47.   36.   80.  109.    8.6  83.   82.  101.   76.  103.  112.\n",
            " 206.  110.   93.   79.  121.    nan 107.   88.  187.  254.  115.  113.\n",
            " 260.  117.  164.   97.   64.  129.  111.  106.   95.   87.  105.   90.\n",
            "  67.  134.   35.  193.  143.  130.  108.   86.   96.   92.   99.  216.\n",
            " 152.  125.  138.  194.   91.  120.  102.  170.  126.  116.  140.   94.\n",
            " 159.   85.  210.   89.  151.  247.  139.  153.  178.  123.  137.  161.\n",
            "   7.3  72.  202.  122.  124.  157.  118.  104.  135.  186.  241.  131.\n",
            " 119.  100.  220.  176.  136.  183.  155.  208.  199.  154.  169.  128.\n",
            " 235.  195.  267.  232.  197.  212.  149.  127.  245.  132.  162.   77.\n",
            " 142.   69.  173.  141.  156.  181.  189.   60.  114.  198.  147.  191.\n",
            " 177.  174.  207.  168.   73.  160.  145.  200.  182.  158.  203.  209.\n",
            " 217.  430.  213.  218.  163.  296.  167.  148.  166.  185.  248.  172.\n",
            " 144.  150.  165.  196.  308.  146.  426.  224.   29.  204.  201.  133.\n",
            " 180.  184.  450.  244.  301.  255.  252.  396.  223.  261.  250.  179.\n",
            " 219.  190.   51.  221.  171.  242.  275.  211.   49.  239.  205.  222.\n",
            " 256.  214.  282.  287.  253.  269.  175.  228.  333.  258.  236.  225.\n",
            " 263.  283.  359.  188.  240. ]\n",
            "******\n",
            "t4u_measured\n",
            "['y', 'n']\n",
            "Categories (2, object): ['y', 'n']\n",
            "******\n",
            "t4u\n",
            "[1.48 1.13 1.   1.04 1.28 1.19 0.86 1.05 1.21 1.02 0.92 1.29 0.98 1.08\n",
            " 1.01 1.18 1.1  1.27 0.83 1.11 0.78 1.39 1.12 0.93 0.99 0.9  1.06 0.68\n",
            " 0.67 1.14 0.8  0.96 0.95 1.46 1.03 0.97 0.94 1.09 1.24 1.23 1.53 1.26\n",
            " 1.4  1.17 0.87 0.61 0.7  1.07 1.73 1.45 1.2  0.89 0.84 0.91 0.85 1.35\n",
            " 0.82 1.5  0.74 1.71 1.79 0.73 0.77 1.25  nan 0.88 0.72 0.31 0.   0.79\n",
            " 0.81 0.71 1.93 1.32 0.66 1.68 1.42 1.7  1.83 1.41 1.34 1.65 1.22 0.75\n",
            " 1.74 0.69 1.51 0.76 1.16 0.35 0.62 0.54 1.36 1.33 1.3  0.48 1.59 1.75\n",
            " 1.86 1.38 1.43 1.62 2.01 0.3  1.31 1.15 1.57 0.55 1.66 0.52 1.97 1.47\n",
            " 0.36 1.88 1.55 0.34 1.67 0.58 0.6  0.59 1.37 1.76 0.64 1.8  0.41 0.2\n",
            " 1.77 0.33 1.54 0.46 0.32 1.44 1.56 0.56 1.52 2.03 0.65 0.63 1.96 0.53\n",
            " 0.47 0.29 2.21 1.69 1.64 1.49 1.72 1.58 0.57 1.61 0.28 2.   1.63 0.27\n",
            " 1.94 0.5  0.49 0.4  0.38]\n",
            "******\n",
            "fti_measured\n",
            "['y', 'n']\n",
            "Categories (2, object): ['y', 'n']\n",
            "******\n",
            "fti\n",
            "[ 10.   17.    0.    6.   44.   23.   63.   32.    7.5  61.   41.   76.\n",
            "  45.   34.   81.   11.   16.   46.   22.   12.    5.   47.   29.   37.\n",
            "  60.    8.4   8.5  24.   28.    7.   49.   36.   15.    9.   80.   53.\n",
            "   7.2  68.    6.6  48.   21.   14.    2.   20.    1.4  56.    3.   51.\n",
            "  13.   43.   78.   52.   64.   26.   35.   31.  133.    3.4  54.    8.9\n",
            "  57.    5.5  58.   55.    2.8  66.    4.   40.   50.    8.7  87.   89.\n",
            " 112.  123.   99.   92.  104.   69.  196.  107.  106.   74.   97.    nan\n",
            " 122.   84.  114.  124.  241.  119.  120.  136.   85.  127.  839.  137.\n",
            " 197.   96.   77.  108.   82.   72.   94.   91.  240.  121.  109.   79.\n",
            " 100.   98.   73.  117.  165.  103.   88.  101.  126.  132.  128.  143.\n",
            " 152.  141.  186.  113.  102.  125.   93.  105.  159.  188.   71.  149.\n",
            " 116.   83.  176.  161.   86.  140.  111.  158.  115.  171.   90.   95.\n",
            "  70.  135.  134.  178.  110.  170.  205.  695.  155.  118.  741.  131.\n",
            " 129.  142.  153.   75.  254.  246.  139.  185.  157.  147.  164.  130.\n",
            " 222.  650.  174.  182.  144.  169.  257.  145.  345.  180.  167.  151.\n",
            " 154.  150.  219.  228.   65.  187.  166.  195.  208.  138.   33.  173.\n",
            " 146.  211.  181.  190.  247.  221.  395.  216.  212.  148.  162.  220.\n",
            " 370.  450.  160.   59.  189.  203.  168.  179.  264.  470.  184.  163.\n",
            "  67.  213.  354.  292.  359.  172.  156.  334.  177.  214.  194.  192.\n",
            " 215.  217.  271.  250.  244.  308.  881.  258.  316.  200.  711.  256.\n",
            " 232.  202.   39.  248.  237.  259.  445.   19.  852.   42.  235.  634.\n",
            " 283.  305.  204.  229.  332.  550.  249.  263.  615.  266.  198.  175.\n",
            " 209.  299.  193.  227.  223.  337.  210.  272.  702.  218.  239.  355.\n",
            " 482.  347.  485.  612.  428. ]\n",
            "******\n",
            "tbg_measured\n",
            "['n', 'y']\n",
            "Categories (2, object): ['n', 'y']\n",
            "******\n",
            "tbg\n",
            "[NaN, '28', '34', '0', '19', ..., '65', '7.30', '8.50', '69', '122']\n",
            "Length: 53\n",
            "Categories (52, object): ['28', '34', '0', '19', ..., '7.30', '8.50', '69', '122']\n",
            "******\n"
          ],
          "name": "stdout"
        }
      ]
    },
    {
      "cell_type": "markdown",
      "metadata": {
        "id": "c3fkbbBjIdIJ"
      },
      "source": [
        "### Completeness"
      ]
    },
    {
      "cell_type": "code",
      "metadata": {
        "colab": {
          "base_uri": "https://localhost:8080/"
        },
        "id": "nAPjxBtRO4hJ",
        "outputId": "f8245d51-8773-445c-9192-a68bdf8fdde9"
      },
      "source": [
        "#check for null values\n",
        "health_df.isnull().sum()"
      ],
      "execution_count": 13,
      "outputs": [
        {
          "output_type": "execute_result",
          "data": {
            "text/plain": [
              "status                          0\n",
              "age                           446\n",
              "sex                            73\n",
              "on_thyroxine                    0\n",
              "query_on_thyroxine              0\n",
              "on_antithyroid_medication       0\n",
              "thyroid_surgery                 0\n",
              "query_hypothyroid               0\n",
              "query_hyperthyroid              0\n",
              "pregnant                        0\n",
              "sick                            0\n",
              "tumor                           0\n",
              "lithium                         0\n",
              "goitre                          0\n",
              "tsh_measured                    0\n",
              "tsh                           468\n",
              "t3_measured                     0\n",
              "t3                            695\n",
              "tt4_measured                    0\n",
              "tt4                           249\n",
              "t4u_measured                    0\n",
              "t4u                           248\n",
              "fti_measured                    0\n",
              "fti                           247\n",
              "tbg_measured                    0\n",
              "tbg                          2903\n",
              "dtype: int64"
            ]
          },
          "metadata": {
            "tags": []
          },
          "execution_count": 13
        }
      ]
    },
    {
      "cell_type": "code",
      "metadata": {
        "colab": {
          "base_uri": "https://localhost:8080/"
        },
        "id": "CzguCc5GRgwK",
        "outputId": "0358ebee-c2cf-40f8-d2f2-c570437b98da"
      },
      "source": [
        "#Column TBG contains all null values we shall drop it\n",
        "health_df=health_df.drop('tbg', axis=1)\n",
        "health_df.columns"
      ],
      "execution_count": 14,
      "outputs": [
        {
          "output_type": "execute_result",
          "data": {
            "text/plain": [
              "Index(['status', 'age', 'sex', 'on_thyroxine', 'query_on_thyroxine',\n",
              "       'on_antithyroid_medication', 'thyroid_surgery', 'query_hypothyroid',\n",
              "       'query_hyperthyroid', 'pregnant', 'sick', 'tumor', 'lithium', 'goitre',\n",
              "       'tsh_measured', 'tsh', 't3_measured', 't3', 'tt4_measured', 'tt4',\n",
              "       't4u_measured', 't4u', 'fti_measured', 'fti', 'tbg_measured'],\n",
              "      dtype='object')"
            ]
          },
          "metadata": {
            "tags": []
          },
          "execution_count": 14
        }
      ]
    },
    {
      "cell_type": "code",
      "metadata": {
        "colab": {
          "base_uri": "https://localhost:8080/",
          "height": 0
        },
        "id": "V2syyW2heTiF",
        "outputId": "3f9a49bd-b810-4238-fda5-d932b8012c41"
      },
      "source": [
        "#check the distribution to understand which imputation method to use\n",
        "health_df.hist(figsize = (10,7))"
      ],
      "execution_count": 15,
      "outputs": [
        {
          "output_type": "execute_result",
          "data": {
            "text/plain": [
              "array([[<matplotlib.axes._subplots.AxesSubplot object at 0x7f1ef2781e10>,\n",
              "        <matplotlib.axes._subplots.AxesSubplot object at 0x7f1eed14e1d0>],\n",
              "       [<matplotlib.axes._subplots.AxesSubplot object at 0x7f1eed0bc510>,\n",
              "        <matplotlib.axes._subplots.AxesSubplot object at 0x7f1eed0eeb90>],\n",
              "       [<matplotlib.axes._subplots.AxesSubplot object at 0x7f1eed033250>,\n",
              "        <matplotlib.axes._subplots.AxesSubplot object at 0x7f1eed068850>]],\n",
              "      dtype=object)"
            ]
          },
          "metadata": {
            "tags": []
          },
          "execution_count": 15
        },
        {
          "output_type": "display_data",
          "data": {
            "image/png": "[encoded data removed]",
            "text/plain": [
              "<Figure size 720x504 with 6 Axes>"
            ]
          },
          "metadata": {
            "tags": [],
            "needs_background": "light"
          }
        }
      ]
    },
    {
      "cell_type": "code",
      "metadata": {
        "id": "pHBWtsstlaET"
      },
      "source": [
        "#Age, tsh and T4u show a normal distribution. we shall use mean for imputations\n",
        "health_df['age'].fillna(health_df['age'].mean(), inplace=True)\n",
        "health_df.t4u.fillna(health_df.t4u.mean(), inplace=True)\n",
        "health_df.tsh.fillna(health_df.tsh.mean(), inplace=True)"
      ],
      "execution_count": 16,
      "outputs": []
    },
    {
      "cell_type": "code",
      "metadata": {
        "id": "Mf9jQ92-l8GK"
      },
      "source": [
        "#for fti, t3 and tt4 the distribution shows that they are skewed. we shall impute using median since its not influenced by median\n",
        "health_df.tt4.fillna(health_df.tt4.median(), inplace=True)\n",
        "health_df.fti.fillna(health_df.fti.median(), inplace=True)\n",
        "health_df.t3.fillna(health_df.t3.median(), inplace=True)"
      ],
      "execution_count": 17,
      "outputs": []
    },
    {
      "cell_type": "code",
      "metadata": {
        "colab": {
          "base_uri": "https://localhost:8080/"
        },
        "id": "sA3yQC6FnnLw",
        "outputId": "89342710-dc56-4e64-8bf9-2a774db3df76"
      },
      "source": [
        "health_df.sex.unique()"
      ],
      "execution_count": 18,
      "outputs": [
        {
          "output_type": "execute_result",
          "data": {
            "text/plain": [
              "['M', 'F', NaN]\n",
              "Categories (2, object): ['M', 'F']"
            ]
          },
          "metadata": {
            "tags": []
          },
          "execution_count": 18
        }
      ]
    },
    {
      "cell_type": "code",
      "metadata": {
        "colab": {
          "base_uri": "https://localhost:8080/"
        },
        "id": "tB24AIA6cdSy",
        "outputId": "66b0645c-12dd-43f1-a5bf-6e09b09e7d9f"
      },
      "source": [
        "#For the case of null values in sex, we are unable to determine the gender of missing value.\n",
        "#We shall assume that nan values are females. This is because hypothyroidism is more rampandant in women than men\n",
        "\n",
        "\n",
        "health_df['sex'].fillna('F', inplace = True)\n",
        "\n",
        "# let us see if we have successfully filled all missing values\n",
        "health_df.isnull().sum()"
      ],
      "execution_count": 19,
      "outputs": [
        {
          "output_type": "execute_result",
          "data": {
            "text/plain": [
              "status                       0\n",
              "age                          0\n",
              "sex                          0\n",
              "on_thyroxine                 0\n",
              "query_on_thyroxine           0\n",
              "on_antithyroid_medication    0\n",
              "thyroid_surgery              0\n",
              "query_hypothyroid            0\n",
              "query_hyperthyroid           0\n",
              "pregnant                     0\n",
              "sick                         0\n",
              "tumor                        0\n",
              "lithium                      0\n",
              "goitre                       0\n",
              "tsh_measured                 0\n",
              "tsh                          0\n",
              "t3_measured                  0\n",
              "t3                           0\n",
              "tt4_measured                 0\n",
              "tt4                          0\n",
              "t4u_measured                 0\n",
              "t4u                          0\n",
              "fti_measured                 0\n",
              "fti                          0\n",
              "tbg_measured                 0\n",
              "dtype: int64"
            ]
          },
          "metadata": {
            "tags": []
          },
          "execution_count": 19
        }
      ]
    },
    {
      "cell_type": "markdown",
      "metadata": {
        "id": "d-7uwq7_JDKP"
      },
      "source": [
        "### Consistency "
      ]
    },
    {
      "cell_type": "code",
      "metadata": {
        "colab": {
          "base_uri": "https://localhost:8080/"
        },
        "id": "nezCJeiLPMDd",
        "outputId": "ced2b5cb-6470-48bc-e3ae-4a1cf0e55635"
      },
      "source": [
        "#we will look for the number of rows with duplicate records\n",
        "print('Number of rows with duplicated values',health_df.duplicated().sum())\n",
        "\n",
        "#we then drop the rows with duplicated records\n",
        "health_df.drop_duplicates(inplace=True)\n",
        "print('After dropping there are',health_df.duplicated().sum(), \"Duplicated rows\")\n",
        "\n",
        "print('Shape of dataframe after dropping duplicated rows', health_df.shape)"
      ],
      "execution_count": 20,
      "outputs": [
        {
          "output_type": "stream",
          "text": [
            "Number of rows with duplicated values 156\n",
            "After dropping there are 0 Duplicated rows\n",
            "Shape of dataframe after dropping duplicated rows (3007, 25)\n"
          ],
          "name": "stdout"
        }
      ]
    },
    {
      "cell_type": "markdown",
      "metadata": {
        "id": "gjLSRbQJKmt1"
      },
      "source": [
        "### Outliers"
      ]
    },
    {
      "cell_type": "code",
      "metadata": {
        "colab": {
          "base_uri": "https://localhost:8080/",
          "height": 0
        },
        "id": "tLTWZ1NLJr0Q",
        "outputId": "e1e7102d-d55e-4b77-ac70-fb87ae2965e1"
      },
      "source": [
        "col_names=num_cols\n",
        "fig, ax = plt.subplots(len(col_names), figsize=(15,40))\n",
        "\n",
        "for i, col_val in enumerate(col_names):\n",
        "    sns.boxplot(health_df[col_val], ax=ax[i])\n",
        "    ax[i].set_title('Box plot - {}'.format(col_val), fontsize=10)\n",
        "    ax[i].set_xlabel(col_val, fontsize=8)\n",
        "plt.show()"
      ],
      "execution_count": 21,
      "outputs": [
        {
          "output_type": "display_data",
          "data": {
            "image/png": "[encoded data removed]",
            "text/plain": [
              "<Figure size 1080x2880 with 6 Axes>"
            ]
          },
          "metadata": {
            "tags": [],
            "needs_background": "light"
          }
        }
      ]
    },
    {
      "cell_type": "markdown",
      "metadata": {
        "id": "dI4sJfOSLc61"
      },
      "source": [
        "# Exploratory Data Analysis"
      ]
    },
    {
      "cell_type": "markdown",
      "metadata": {
        "id": "tVGoQ7R9Lgfx"
      },
      "source": [
        "### Univarient Analysis"
      ]
    },
    {
      "cell_type": "code",
      "metadata": {
        "colab": {
          "base_uri": "https://localhost:8080/",
          "height": 295
        },
        "id": "KJ_BK6mTK4_g",
        "outputId": "ab0bb707-b105-4377-e608-4178c57d0f20"
      },
      "source": [
        "#We shall check the statistical summaries of the data\n",
        "health_df.describe()"
      ],
      "execution_count": 22,
      "outputs": [
        {
          "output_type": "execute_result",
          "data": {
            "text/html": [
              "<div>\n",
              "<style scoped>\n",
              "    .dataframe tbody tr th:only-of-type {\n",
              "        vertical-align: middle;\n",
              "    }\n",
              "\n",
              "    .dataframe tbody tr th {\n",
              "        vertical-align: top;\n",
              "    }\n",
              "\n",
              "    .dataframe thead th {\n",
              "        text-align: right;\n",
              "    }\n",
              "</style>\n",
              "<table border=\"1\" class=\"dataframe\">\n",
              "  <thead>\n",
              "    <tr style=\"text-align: right;\">\n",
              "      <th></th>\n",
              "      <th>age</th>\n",
              "      <th>tsh</th>\n",
              "      <th>t3</th>\n",
              "      <th>tt4</th>\n",
              "      <th>t4u</th>\n",
              "      <th>fti</th>\n",
              "    </tr>\n",
              "  </thead>\n",
              "  <tbody>\n",
              "    <tr>\n",
              "      <th>count</th>\n",
              "      <td>3007.000000</td>\n",
              "      <td>3007.000000</td>\n",
              "      <td>3007.000000</td>\n",
              "      <td>3007.000000</td>\n",
              "      <td>3007.000000</td>\n",
              "      <td>3007.000000</td>\n",
              "    </tr>\n",
              "    <tr>\n",
              "      <th>mean</th>\n",
              "      <td>51.350030</td>\n",
              "      <td>5.823557</td>\n",
              "      <td>1.906950</td>\n",
              "      <td>108.454905</td>\n",
              "      <td>0.977593</td>\n",
              "      <td>115.040206</td>\n",
              "    </tr>\n",
              "    <tr>\n",
              "      <th>std</th>\n",
              "      <td>17.864731</td>\n",
              "      <td>22.470602</td>\n",
              "      <td>0.877747</td>\n",
              "      <td>43.408647</td>\n",
              "      <td>0.219705</td>\n",
              "      <td>58.566137</td>\n",
              "    </tr>\n",
              "    <tr>\n",
              "      <th>min</th>\n",
              "      <td>1.000000</td>\n",
              "      <td>0.000000</td>\n",
              "      <td>0.000000</td>\n",
              "      <td>2.000000</td>\n",
              "      <td>0.000000</td>\n",
              "      <td>0.000000</td>\n",
              "    </tr>\n",
              "    <tr>\n",
              "      <th>25%</th>\n",
              "      <td>38.000000</td>\n",
              "      <td>0.000000</td>\n",
              "      <td>1.500000</td>\n",
              "      <td>85.000000</td>\n",
              "      <td>0.860000</td>\n",
              "      <td>92.000000</td>\n",
              "    </tr>\n",
              "    <tr>\n",
              "      <th>50%</th>\n",
              "      <td>51.154214</td>\n",
              "      <td>1.000000</td>\n",
              "      <td>1.800000</td>\n",
              "      <td>104.000000</td>\n",
              "      <td>0.970000</td>\n",
              "      <td>107.000000</td>\n",
              "    </tr>\n",
              "    <tr>\n",
              "      <th>75%</th>\n",
              "      <td>64.000000</td>\n",
              "      <td>5.300000</td>\n",
              "      <td>2.200000</td>\n",
              "      <td>125.000000</td>\n",
              "      <td>1.060000</td>\n",
              "      <td>126.000000</td>\n",
              "    </tr>\n",
              "    <tr>\n",
              "      <th>max</th>\n",
              "      <td>98.000000</td>\n",
              "      <td>530.000000</td>\n",
              "      <td>10.200000</td>\n",
              "      <td>450.000000</td>\n",
              "      <td>2.210000</td>\n",
              "      <td>881.000000</td>\n",
              "    </tr>\n",
              "  </tbody>\n",
              "</table>\n",
              "</div>"
            ],
            "text/plain": [
              "               age          tsh  ...          t4u          fti\n",
              "count  3007.000000  3007.000000  ...  3007.000000  3007.000000\n",
              "mean     51.350030     5.823557  ...     0.977593   115.040206\n",
              "std      17.864731    22.470602  ...     0.219705    58.566137\n",
              "min       1.000000     0.000000  ...     0.000000     0.000000\n",
              "25%      38.000000     0.000000  ...     0.860000    92.000000\n",
              "50%      51.154214     1.000000  ...     0.970000   107.000000\n",
              "75%      64.000000     5.300000  ...     1.060000   126.000000\n",
              "max      98.000000   530.000000  ...     2.210000   881.000000\n",
              "\n",
              "[8 rows x 6 columns]"
            ]
          },
          "metadata": {
            "tags": []
          },
          "execution_count": 22
        }
      ]
    },
    {
      "cell_type": "code",
      "metadata": {
        "colab": {
          "base_uri": "https://localhost:8080/",
          "height": 732
        },
        "id": "auAINohvLpU_",
        "outputId": "59aacef2-6920-4213-beb0-be5b28a50e7c"
      },
      "source": [
        "#Visulize the distribution\n",
        "health_df.hist(figsize=(10,10))\n",
        "#Age, t4u show a normal distribution while tt4,t3 and fti are skewed."
      ],
      "execution_count": 23,
      "outputs": [
        {
          "output_type": "execute_result",
          "data": {
            "text/plain": [
              "array([[<matplotlib.axes._subplots.AxesSubplot object at 0x7f1eec76a110>,\n",
              "        <matplotlib.axes._subplots.AxesSubplot object at 0x7f1eeceea1d0>],\n",
              "       [<matplotlib.axes._subplots.AxesSubplot object at 0x7f1eec6ecc50>,\n",
              "        <matplotlib.axes._subplots.AxesSubplot object at 0x7f1eec6ad310>],\n",
              "       [<matplotlib.axes._subplots.AxesSubplot object at 0x7f1eec6e3990>,\n",
              "        <matplotlib.axes._subplots.AxesSubplot object at 0x7f1eec697fd0>]],\n",
              "      dtype=object)"
            ]
          },
          "metadata": {
            "tags": []
          },
          "execution_count": 23
        },
        {
          "output_type": "display_data",
          "data": {
            "image/png": "[encoded data removed]",
            "text/plain": [
              "<Figure size 720x720 with 6 Axes>"
            ]
          },
          "metadata": {
            "tags": [],
            "needs_background": "light"
          }
        }
      ]
    },
    {
      "cell_type": "code",
      "metadata": {
        "colab": {
          "base_uri": "https://localhost:8080/"
        },
        "id": "Q_PWijHasWYO",
        "outputId": "98b9a568-6ea9-49d7-e57e-a15b9841b620"
      },
      "source": [
        "health_df.columns"
      ],
      "execution_count": 24,
      "outputs": [
        {
          "output_type": "execute_result",
          "data": {
            "text/plain": [
              "Index(['status', 'age', 'sex', 'on_thyroxine', 'query_on_thyroxine',\n",
              "       'on_antithyroid_medication', 'thyroid_surgery', 'query_hypothyroid',\n",
              "       'query_hyperthyroid', 'pregnant', 'sick', 'tumor', 'lithium', 'goitre',\n",
              "       'tsh_measured', 'tsh', 't3_measured', 't3', 'tt4_measured', 'tt4',\n",
              "       't4u_measured', 't4u', 'fti_measured', 'fti', 'tbg_measured'],\n",
              "      dtype='object')"
            ]
          },
          "metadata": {
            "tags": []
          },
          "execution_count": 24
        }
      ]
    },
    {
      "cell_type": "code",
      "metadata": {
        "colab": {
          "base_uri": "https://localhost:8080/"
        },
        "id": "RB1-vUAov1gN",
        "outputId": "5a6ee963-44f3-4a9b-975d-9424f64c9501"
      },
      "source": [
        "cat_cols"
      ],
      "execution_count": 25,
      "outputs": [
        {
          "output_type": "execute_result",
          "data": {
            "text/plain": [
              "['sex',\n",
              " 'on_thyroxine',\n",
              " 'query_on_thyroxine',\n",
              " 'on_antithyroid_medication',\n",
              " 'thyroid_surgery',\n",
              " 'query_hypothyroid',\n",
              " 'query_hyperthyroid',\n",
              " 'pregnant',\n",
              " 'sick',\n",
              " 'tumor',\n",
              " 'lithium',\n",
              " 'goitre',\n",
              " 'tsh_measured',\n",
              " 't3_measured',\n",
              " 'tt4_measured',\n",
              " 't4U_measured',\n",
              " 'fti_measured']"
            ]
          },
          "metadata": {
            "tags": []
          },
          "execution_count": 25
        }
      ]
    },
    {
      "cell_type": "code",
      "metadata": {
        "colab": {
          "base_uri": "https://localhost:8080/",
          "height": 310
        },
        "id": "reaEq7BQrmdL",
        "outputId": "891af81e-8a2f-4f3c-91dd-c3a2cb79f2bf"
      },
      "source": [
        "#visulize the status cols\n",
        "sns.countplot(health_df.status)\n",
        "#From the countplot we can see see that most of the cases were negative"
      ],
      "execution_count": 26,
      "outputs": [
        {
          "output_type": "execute_result",
          "data": {
            "text/plain": [
              "<matplotlib.axes._subplots.AxesSubplot at 0x7f1eec46db10>"
            ]
          },
          "metadata": {
            "tags": []
          },
          "execution_count": 26
        },
        {
          "output_type": "display_data",
          "data": {
            "image/png": "[encoded data removed]",
            "text/plain": [
              "<Figure size 432x288 with 1 Axes>"
            ]
          },
          "metadata": {
            "tags": [],
            "needs_background": "light"
          }
        }
      ]
    },
    {
      "cell_type": "code",
      "metadata": {
        "colab": {
          "base_uri": "https://localhost:8080/",
          "height": 445
        },
        "id": "uKntQjldspUd",
        "outputId": "5b9fd9d2-4c21-4efb-ccd8-a896ed3279d1"
      },
      "source": [
        "#visulize the gender distribution\n",
        "explode=[0.0, 0.01]\n",
        "health_df['sex'].value_counts().head(4).plot(kind= 'pie', figsize=[7,7], autopct = '%1.1f%%', explode=explode)\n",
        "plt.title('A Pie chart of Gender') \n",
        "#The pie plot shows that there were more females than male"
      ],
      "execution_count": 27,
      "outputs": [
        {
          "output_type": "execute_result",
          "data": {
            "text/plain": [
              "Text(0.5, 1.0, 'A Pie chart of Gender')"
            ]
          },
          "metadata": {
            "tags": []
          },
          "execution_count": 27
        },
        {
          "output_type": "display_data",
          "data": {
            "image/png": "[encoded data removed]",
            "text/plain": [
              "<Figure size 504x504 with 1 Axes>"
            ]
          },
          "metadata": {
            "tags": []
          }
        }
      ]
    },
    {
      "cell_type": "code",
      "metadata": {
        "id": "e5BVJ5m9vRtZ"
      },
      "source": [
        "#Visulize some categorical cols\n",
        "# cols=['pregnant', 'tumor', 'sick']\n",
        "# for i in cols:\n",
        "#   sns.countplot(health_df[i])\n",
        "  "
      ],
      "execution_count": 28,
      "outputs": []
    },
    {
      "cell_type": "markdown",
      "metadata": {
        "id": "2_8nbJUNGIUc"
      },
      "source": [
        "### Bivarient Analysis"
      ]
    },
    {
      "cell_type": "code",
      "metadata": {
        "colab": {
          "base_uri": "https://localhost:8080/",
          "height": 619
        },
        "id": "EXM-a01BwmSl",
        "outputId": "3a1029a1-63bd-4d14-a1a7-b632c7744280"
      },
      "source": [
        "#Lets visulize the correlations between each cols\n",
        "corr=health_df.corr()\n",
        "plt.figure(figsize=(10,10))\n",
        "sns.heatmap(corr, annot=True)"
      ],
      "execution_count": 29,
      "outputs": [
        {
          "output_type": "execute_result",
          "data": {
            "text/plain": [
              "<matplotlib.axes._subplots.AxesSubplot at 0x7f1eece808d0>"
            ]
          },
          "metadata": {
            "tags": []
          },
          "execution_count": 29
        },
        {
          "output_type": "display_data",
          "data": {
            "image/png": "[encoded data removed]",
            "text/plain": [
              "<Figure size 720x720 with 2 Axes>"
            ]
          },
          "metadata": {
            "tags": [],
            "needs_background": "light"
          }
        }
      ]
    },
    {
      "cell_type": "code",
      "metadata": {
        "colab": {
          "base_uri": "https://localhost:8080/"
        },
        "id": "ennMmRrhVulj",
        "outputId": "0b4ef402-233f-4279-88c2-5690e6f09dc2"
      },
      "source": [
        "#How which age groups were reported to have the hypothyroids\n",
        "health_df.groupby(['status', 'age'])['age'].count().sort_values(ascending=False)\n",
        "#Most of the patients who reported to have hypothyroids were aged 51 years (410). "
      ],
      "execution_count": 90,
      "outputs": [
        {
          "output_type": "execute_result",
          "data": {
            "text/plain": [
              "status  age      \n",
              "0       51.154214    410\n",
              "        59.000000     59\n",
              "        58.000000     55\n",
              "        62.000000     55\n",
              "        70.000000     55\n",
              "                    ... \n",
              "1       30.000000      1\n",
              "        51.000000      1\n",
              "        32.000000      1\n",
              "        47.000000      1\n",
              "        88.000000      1\n",
              "Name: age, Length: 143, dtype: int64"
            ]
          },
          "metadata": {
            "tags": []
          },
          "execution_count": 90
        }
      ]
    },
    {
      "cell_type": "code",
      "metadata": {
        "colab": {
          "base_uri": "https://localhost:8080/"
        },
        "id": "cx2vv0njIZqt",
        "outputId": "a1116d4d-7321-43f7-a0fb-c81151dbf560"
      },
      "source": [
        "health_df.sick.unique()"
      ],
      "execution_count": 31,
      "outputs": [
        {
          "output_type": "execute_result",
          "data": {
            "text/plain": [
              "['f', 't']\n",
              "Categories (2, object): ['f', 't']"
            ]
          },
          "metadata": {
            "tags": []
          },
          "execution_count": 31
        }
      ]
    },
    {
      "cell_type": "code",
      "metadata": {
        "colab": {
          "base_uri": "https://localhost:8080/",
          "height": 404
        },
        "id": "wctF5OnWIq1c",
        "outputId": "a5f46b83-c7cd-4b98-e29f-63d99ef576ab"
      },
      "source": [
        "sns.catplot(x=\"status\", y=\"age\", hue=\"sex\",data=health_df, kind=\"violin\")\n",
        "#Most of the patients were aged between 40-80 years with women registering the highest number."
      ],
      "execution_count": 32,
      "outputs": [
        {
          "output_type": "execute_result",
          "data": {
            "text/plain": [
              "<seaborn.axisgrid.FacetGrid at 0x7f1ee182b850>"
            ]
          },
          "metadata": {
            "tags": []
          },
          "execution_count": 32
        },
        {
          "output_type": "display_data",
          "data": {
            "image/png": "[encoded data removed]",
            "text/plain": [
              "<Figure size 418.895x360 with 1 Axes>"
            ]
          },
          "metadata": {
            "tags": [],
            "needs_background": "light"
          }
        }
      ]
    },
    {
      "cell_type": "code",
      "metadata": {
        "colab": {
          "base_uri": "https://localhost:8080/"
        },
        "id": "MbiRVXQQM98O",
        "outputId": "4715a2e2-dcf6-46eb-a784-074c6106dbaa"
      },
      "source": [
        "health_df.columns"
      ],
      "execution_count": 33,
      "outputs": [
        {
          "output_type": "execute_result",
          "data": {
            "text/plain": [
              "Index(['status', 'age', 'sex', 'on_thyroxine', 'query_on_thyroxine',\n",
              "       'on_antithyroid_medication', 'thyroid_surgery', 'query_hypothyroid',\n",
              "       'query_hyperthyroid', 'pregnant', 'sick', 'tumor', 'lithium', 'goitre',\n",
              "       'tsh_measured', 'tsh', 't3_measured', 't3', 'tt4_measured', 'tt4',\n",
              "       't4u_measured', 't4u', 'fti_measured', 'fti', 'tbg_measured'],\n",
              "      dtype='object')"
            ]
          },
          "metadata": {
            "tags": []
          },
          "execution_count": 33
        }
      ]
    },
    {
      "cell_type": "code",
      "metadata": {
        "colab": {
          "base_uri": "https://localhost:8080/",
          "height": 404
        },
        "id": "UY5-bCfgL13P",
        "outputId": "15f3d0c5-a8af-4c27-d1c7-3e03d263bde1"
      },
      "source": [
        "sns.catplot(x=\"status\", y='age', hue=\"tumor\",data=health_df, kind=\"bar\")\n",
        "#Most of the patients registered to have hypothyroid did not have a tumor."
      ],
      "execution_count": 34,
      "outputs": [
        {
          "output_type": "execute_result",
          "data": {
            "text/plain": [
              "<seaborn.axisgrid.FacetGrid at 0x7f1eec472710>"
            ]
          },
          "metadata": {
            "tags": []
          },
          "execution_count": 34
        },
        {
          "output_type": "display_data",
          "data": {
            "image/png": "[encoded data removed]",
            "text/plain": [
              "<Figure size 413.81x360 with 1 Axes>"
            ]
          },
          "metadata": {
            "tags": [],
            "needs_background": "light"
          }
        }
      ]
    },
    {
      "cell_type": "code",
      "metadata": {
        "colab": {
          "base_uri": "https://localhost:8080/",
          "height": 404
        },
        "id": "dcW1vHJMM4A6",
        "outputId": "aba10870-38a0-44e6-f47a-e079e9ba531f"
      },
      "source": [
        "sns.catplot(x=\"status\", y='age', hue=\"pregnant\",data=health_df, kind=\"violin\")\n",
        "# From the plot most patient that were found to have hypothroid were not pregrant "
      ],
      "execution_count": 35,
      "outputs": [
        {
          "output_type": "execute_result",
          "data": {
            "text/plain": [
              "<seaborn.axisgrid.FacetGrid at 0x7f1ee1655150>"
            ]
          },
          "metadata": {
            "tags": []
          },
          "execution_count": 35
        },
        {
          "output_type": "display_data",
          "data": {
            "image/png": "[encoded data removed]",
            "text/plain": [
              "<Figure size 435.685x360 with 1 Axes>"
            ]
          },
          "metadata": {
            "tags": [],
            "needs_background": "light"
          }
        }
      ]
    },
    {
      "cell_type": "code",
      "metadata": {
        "colab": {
          "base_uri": "https://localhost:8080/",
          "height": 306
        },
        "id": "SIKUVPqGVpM3",
        "outputId": "fbd62f01-7abc-40c2-e0d8-d28dc4d67b06"
      },
      "source": [
        "#Box plot to visulize the patients with tumor and the their ages\n",
        "sns.boxplot(x=\"tumor\", y=\"age\",\n",
        "            hue=\"sex\",\n",
        "            data=health_df)"
      ],
      "execution_count": 92,
      "outputs": [
        {
          "output_type": "execute_result",
          "data": {
            "text/plain": [
              "<matplotlib.axes._subplots.AxesSubplot at 0x7f1ed86ef490>"
            ]
          },
          "metadata": {
            "tags": []
          },
          "execution_count": 92
        },
        {
          "output_type": "display_data",
          "data": {
            "image/png": "[encoded data removed]",
            "text/plain": [
              "<Figure size 432x288 with 1 Axes>"
            ]
          },
          "metadata": {
            "tags": [],
            "needs_background": "light"
          }
        }
      ]
    },
    {
      "cell_type": "code",
      "metadata": {
        "colab": {
          "base_uri": "https://localhost:8080/"
        },
        "id": "KX693lCxZmiI",
        "outputId": "8eb92ec5-1d84-4aab-cc6f-a5b8f5c80ac3"
      },
      "source": [
        "#numeric cols\n",
        "num_cols"
      ],
      "execution_count": 93,
      "outputs": [
        {
          "output_type": "execute_result",
          "data": {
            "text/plain": [
              "['age', 'tsh', 't3', 'tt4', 't4u', 'fti']"
            ]
          },
          "metadata": {
            "tags": []
          },
          "execution_count": 93
        }
      ]
    },
    {
      "cell_type": "markdown",
      "metadata": {
        "id": "sUKdErxuPDNK"
      },
      "source": [
        "### Mulitivarient Analysis"
      ]
    },
    {
      "cell_type": "code",
      "metadata": {
        "colab": {
          "base_uri": "https://localhost:8080/",
          "height": 0
        },
        "id": "1JGc-qy9bT8L",
        "outputId": "aae2a201-da0b-4c3b-f85b-b345a453abf0"
      },
      "source": [
        "health_df.head()"
      ],
      "execution_count": 36,
      "outputs": [
        {
          "output_type": "execute_result",
          "data": {
            "text/html": [
              "<div>\n",
              "<style scoped>\n",
              "    .dataframe tbody tr th:only-of-type {\n",
              "        vertical-align: middle;\n",
              "    }\n",
              "\n",
              "    .dataframe tbody tr th {\n",
              "        vertical-align: top;\n",
              "    }\n",
              "\n",
              "    .dataframe thead th {\n",
              "        text-align: right;\n",
              "    }\n",
              "</style>\n",
              "<table border=\"1\" class=\"dataframe\">\n",
              "  <thead>\n",
              "    <tr style=\"text-align: right;\">\n",
              "      <th></th>\n",
              "      <th>status</th>\n",
              "      <th>age</th>\n",
              "      <th>sex</th>\n",
              "      <th>on_thyroxine</th>\n",
              "      <th>query_on_thyroxine</th>\n",
              "      <th>on_antithyroid_medication</th>\n",
              "      <th>thyroid_surgery</th>\n",
              "      <th>query_hypothyroid</th>\n",
              "      <th>query_hyperthyroid</th>\n",
              "      <th>pregnant</th>\n",
              "      <th>sick</th>\n",
              "      <th>tumor</th>\n",
              "      <th>lithium</th>\n",
              "      <th>goitre</th>\n",
              "      <th>tsh_measured</th>\n",
              "      <th>tsh</th>\n",
              "      <th>t3_measured</th>\n",
              "      <th>t3</th>\n",
              "      <th>tt4_measured</th>\n",
              "      <th>tt4</th>\n",
              "      <th>t4u_measured</th>\n",
              "      <th>t4u</th>\n",
              "      <th>fti_measured</th>\n",
              "      <th>fti</th>\n",
              "      <th>tbg_measured</th>\n",
              "    </tr>\n",
              "  </thead>\n",
              "  <tbody>\n",
              "    <tr>\n",
              "      <th>0</th>\n",
              "      <td>hypothyroid</td>\n",
              "      <td>72.0</td>\n",
              "      <td>M</td>\n",
              "      <td>f</td>\n",
              "      <td>f</td>\n",
              "      <td>f</td>\n",
              "      <td>f</td>\n",
              "      <td>f</td>\n",
              "      <td>f</td>\n",
              "      <td>f</td>\n",
              "      <td>f</td>\n",
              "      <td>f</td>\n",
              "      <td>f</td>\n",
              "      <td>f</td>\n",
              "      <td>y</td>\n",
              "      <td>30.0</td>\n",
              "      <td>y</td>\n",
              "      <td>0.6</td>\n",
              "      <td>y</td>\n",
              "      <td>15.0</td>\n",
              "      <td>y</td>\n",
              "      <td>1.48</td>\n",
              "      <td>y</td>\n",
              "      <td>10.0</td>\n",
              "      <td>n</td>\n",
              "    </tr>\n",
              "    <tr>\n",
              "      <th>1</th>\n",
              "      <td>hypothyroid</td>\n",
              "      <td>15.0</td>\n",
              "      <td>F</td>\n",
              "      <td>t</td>\n",
              "      <td>f</td>\n",
              "      <td>f</td>\n",
              "      <td>f</td>\n",
              "      <td>f</td>\n",
              "      <td>f</td>\n",
              "      <td>f</td>\n",
              "      <td>f</td>\n",
              "      <td>f</td>\n",
              "      <td>f</td>\n",
              "      <td>f</td>\n",
              "      <td>y</td>\n",
              "      <td>145.0</td>\n",
              "      <td>y</td>\n",
              "      <td>1.7</td>\n",
              "      <td>y</td>\n",
              "      <td>19.0</td>\n",
              "      <td>y</td>\n",
              "      <td>1.13</td>\n",
              "      <td>y</td>\n",
              "      <td>17.0</td>\n",
              "      <td>n</td>\n",
              "    </tr>\n",
              "    <tr>\n",
              "      <th>2</th>\n",
              "      <td>hypothyroid</td>\n",
              "      <td>24.0</td>\n",
              "      <td>M</td>\n",
              "      <td>f</td>\n",
              "      <td>f</td>\n",
              "      <td>f</td>\n",
              "      <td>f</td>\n",
              "      <td>f</td>\n",
              "      <td>f</td>\n",
              "      <td>f</td>\n",
              "      <td>f</td>\n",
              "      <td>f</td>\n",
              "      <td>f</td>\n",
              "      <td>f</td>\n",
              "      <td>y</td>\n",
              "      <td>0.0</td>\n",
              "      <td>y</td>\n",
              "      <td>0.2</td>\n",
              "      <td>y</td>\n",
              "      <td>4.0</td>\n",
              "      <td>y</td>\n",
              "      <td>1.00</td>\n",
              "      <td>y</td>\n",
              "      <td>0.0</td>\n",
              "      <td>n</td>\n",
              "    </tr>\n",
              "    <tr>\n",
              "      <th>3</th>\n",
              "      <td>hypothyroid</td>\n",
              "      <td>24.0</td>\n",
              "      <td>F</td>\n",
              "      <td>f</td>\n",
              "      <td>f</td>\n",
              "      <td>f</td>\n",
              "      <td>f</td>\n",
              "      <td>f</td>\n",
              "      <td>f</td>\n",
              "      <td>f</td>\n",
              "      <td>f</td>\n",
              "      <td>f</td>\n",
              "      <td>f</td>\n",
              "      <td>f</td>\n",
              "      <td>y</td>\n",
              "      <td>430.0</td>\n",
              "      <td>y</td>\n",
              "      <td>0.4</td>\n",
              "      <td>y</td>\n",
              "      <td>6.0</td>\n",
              "      <td>y</td>\n",
              "      <td>1.04</td>\n",
              "      <td>y</td>\n",
              "      <td>6.0</td>\n",
              "      <td>n</td>\n",
              "    </tr>\n",
              "    <tr>\n",
              "      <th>4</th>\n",
              "      <td>hypothyroid</td>\n",
              "      <td>77.0</td>\n",
              "      <td>M</td>\n",
              "      <td>f</td>\n",
              "      <td>f</td>\n",
              "      <td>f</td>\n",
              "      <td>f</td>\n",
              "      <td>f</td>\n",
              "      <td>f</td>\n",
              "      <td>f</td>\n",
              "      <td>f</td>\n",
              "      <td>f</td>\n",
              "      <td>f</td>\n",
              "      <td>f</td>\n",
              "      <td>y</td>\n",
              "      <td>7.3</td>\n",
              "      <td>y</td>\n",
              "      <td>1.2</td>\n",
              "      <td>y</td>\n",
              "      <td>57.0</td>\n",
              "      <td>y</td>\n",
              "      <td>1.28</td>\n",
              "      <td>y</td>\n",
              "      <td>44.0</td>\n",
              "      <td>n</td>\n",
              "    </tr>\n",
              "  </tbody>\n",
              "</table>\n",
              "</div>"
            ],
            "text/plain": [
              "        status   age sex on_thyroxine  ...   t4u fti_measured   fti tbg_measured\n",
              "0  hypothyroid  72.0   M            f  ...  1.48            y  10.0            n\n",
              "1  hypothyroid  15.0   F            t  ...  1.13            y  17.0            n\n",
              "2  hypothyroid  24.0   M            f  ...  1.00            y   0.0            n\n",
              "3  hypothyroid  24.0   F            f  ...  1.04            y   6.0            n\n",
              "4  hypothyroid  77.0   M            f  ...  1.28            y  44.0            n\n",
              "\n",
              "[5 rows x 25 columns]"
            ]
          },
          "metadata": {
            "tags": []
          },
          "execution_count": 36
        }
      ]
    },
    {
      "cell_type": "code",
      "metadata": {
        "colab": {
          "base_uri": "https://localhost:8080/"
        },
        "id": "zQ81uaAVtg-7",
        "outputId": "cd05c404-39bb-4437-f3c1-045f049e0fe5"
      },
      "source": [
        "health_df.dtypes"
      ],
      "execution_count": 37,
      "outputs": [
        {
          "output_type": "execute_result",
          "data": {
            "text/plain": [
              "status                       category\n",
              "age                           float64\n",
              "sex                          category\n",
              "on_thyroxine                 category\n",
              "query_on_thyroxine           category\n",
              "on_antithyroid_medication    category\n",
              "thyroid_surgery              category\n",
              "query_hypothyroid            category\n",
              "query_hyperthyroid           category\n",
              "pregnant                     category\n",
              "sick                         category\n",
              "tumor                        category\n",
              "lithium                      category\n",
              "goitre                       category\n",
              "tsh_measured                 category\n",
              "tsh                           float64\n",
              "t3_measured                  category\n",
              "t3                            float64\n",
              "tt4_measured                 category\n",
              "tt4                           float64\n",
              "t4u_measured                 category\n",
              "t4u                           float64\n",
              "fti_measured                 category\n",
              "fti                           float64\n",
              "tbg_measured                 category\n",
              "dtype: object"
            ]
          },
          "metadata": {
            "tags": []
          },
          "execution_count": 37
        }
      ]
    },
    {
      "cell_type": "code",
      "metadata": {
        "colab": {
          "base_uri": "https://localhost:8080/",
          "height": 0
        },
        "id": "sLV0iBRdN1be",
        "outputId": "defc7154-b61d-42ae-f4f7-25996e00c746"
      },
      "source": [
        "# Data preprocessing\n",
        "health_df=health_df.replace({\"t\":1,\"f\":0, \"y\":1, \"n\":0, \"hypothyroid\":1, \"negative\":0, \"F\":1, \"M\":0})\n",
        "health_df.head()"
      ],
      "execution_count": 38,
      "outputs": [
        {
          "output_type": "execute_result",
          "data": {
            "text/html": [
              "<div>\n",
              "<style scoped>\n",
              "    .dataframe tbody tr th:only-of-type {\n",
              "        vertical-align: middle;\n",
              "    }\n",
              "\n",
              "    .dataframe tbody tr th {\n",
              "        vertical-align: top;\n",
              "    }\n",
              "\n",
              "    .dataframe thead th {\n",
              "        text-align: right;\n",
              "    }\n",
              "</style>\n",
              "<table border=\"1\" class=\"dataframe\">\n",
              "  <thead>\n",
              "    <tr style=\"text-align: right;\">\n",
              "      <th></th>\n",
              "      <th>status</th>\n",
              "      <th>age</th>\n",
              "      <th>sex</th>\n",
              "      <th>on_thyroxine</th>\n",
              "      <th>query_on_thyroxine</th>\n",
              "      <th>on_antithyroid_medication</th>\n",
              "      <th>thyroid_surgery</th>\n",
              "      <th>query_hypothyroid</th>\n",
              "      <th>query_hyperthyroid</th>\n",
              "      <th>pregnant</th>\n",
              "      <th>sick</th>\n",
              "      <th>tumor</th>\n",
              "      <th>lithium</th>\n",
              "      <th>goitre</th>\n",
              "      <th>tsh_measured</th>\n",
              "      <th>tsh</th>\n",
              "      <th>t3_measured</th>\n",
              "      <th>t3</th>\n",
              "      <th>tt4_measured</th>\n",
              "      <th>tt4</th>\n",
              "      <th>t4u_measured</th>\n",
              "      <th>t4u</th>\n",
              "      <th>fti_measured</th>\n",
              "      <th>fti</th>\n",
              "      <th>tbg_measured</th>\n",
              "    </tr>\n",
              "  </thead>\n",
              "  <tbody>\n",
              "    <tr>\n",
              "      <th>0</th>\n",
              "      <td>1</td>\n",
              "      <td>72.0</td>\n",
              "      <td>0</td>\n",
              "      <td>0</td>\n",
              "      <td>0</td>\n",
              "      <td>0</td>\n",
              "      <td>0</td>\n",
              "      <td>0</td>\n",
              "      <td>0</td>\n",
              "      <td>0</td>\n",
              "      <td>0</td>\n",
              "      <td>0</td>\n",
              "      <td>0</td>\n",
              "      <td>0</td>\n",
              "      <td>1</td>\n",
              "      <td>30.0</td>\n",
              "      <td>1</td>\n",
              "      <td>0.6</td>\n",
              "      <td>1</td>\n",
              "      <td>15.0</td>\n",
              "      <td>1</td>\n",
              "      <td>1.48</td>\n",
              "      <td>1</td>\n",
              "      <td>10.0</td>\n",
              "      <td>0</td>\n",
              "    </tr>\n",
              "    <tr>\n",
              "      <th>1</th>\n",
              "      <td>1</td>\n",
              "      <td>15.0</td>\n",
              "      <td>1</td>\n",
              "      <td>1</td>\n",
              "      <td>0</td>\n",
              "      <td>0</td>\n",
              "      <td>0</td>\n",
              "      <td>0</td>\n",
              "      <td>0</td>\n",
              "      <td>0</td>\n",
              "      <td>0</td>\n",
              "      <td>0</td>\n",
              "      <td>0</td>\n",
              "      <td>0</td>\n",
              "      <td>1</td>\n",
              "      <td>145.0</td>\n",
              "      <td>1</td>\n",
              "      <td>1.7</td>\n",
              "      <td>1</td>\n",
              "      <td>19.0</td>\n",
              "      <td>1</td>\n",
              "      <td>1.13</td>\n",
              "      <td>1</td>\n",
              "      <td>17.0</td>\n",
              "      <td>0</td>\n",
              "    </tr>\n",
              "    <tr>\n",
              "      <th>2</th>\n",
              "      <td>1</td>\n",
              "      <td>24.0</td>\n",
              "      <td>0</td>\n",
              "      <td>0</td>\n",
              "      <td>0</td>\n",
              "      <td>0</td>\n",
              "      <td>0</td>\n",
              "      <td>0</td>\n",
              "      <td>0</td>\n",
              "      <td>0</td>\n",
              "      <td>0</td>\n",
              "      <td>0</td>\n",
              "      <td>0</td>\n",
              "      <td>0</td>\n",
              "      <td>1</td>\n",
              "      <td>0.0</td>\n",
              "      <td>1</td>\n",
              "      <td>0.2</td>\n",
              "      <td>1</td>\n",
              "      <td>4.0</td>\n",
              "      <td>1</td>\n",
              "      <td>1.00</td>\n",
              "      <td>1</td>\n",
              "      <td>0.0</td>\n",
              "      <td>0</td>\n",
              "    </tr>\n",
              "    <tr>\n",
              "      <th>3</th>\n",
              "      <td>1</td>\n",
              "      <td>24.0</td>\n",
              "      <td>1</td>\n",
              "      <td>0</td>\n",
              "      <td>0</td>\n",
              "      <td>0</td>\n",
              "      <td>0</td>\n",
              "      <td>0</td>\n",
              "      <td>0</td>\n",
              "      <td>0</td>\n",
              "      <td>0</td>\n",
              "      <td>0</td>\n",
              "      <td>0</td>\n",
              "      <td>0</td>\n",
              "      <td>1</td>\n",
              "      <td>430.0</td>\n",
              "      <td>1</td>\n",
              "      <td>0.4</td>\n",
              "      <td>1</td>\n",
              "      <td>6.0</td>\n",
              "      <td>1</td>\n",
              "      <td>1.04</td>\n",
              "      <td>1</td>\n",
              "      <td>6.0</td>\n",
              "      <td>0</td>\n",
              "    </tr>\n",
              "    <tr>\n",
              "      <th>4</th>\n",
              "      <td>1</td>\n",
              "      <td>77.0</td>\n",
              "      <td>0</td>\n",
              "      <td>0</td>\n",
              "      <td>0</td>\n",
              "      <td>0</td>\n",
              "      <td>0</td>\n",
              "      <td>0</td>\n",
              "      <td>0</td>\n",
              "      <td>0</td>\n",
              "      <td>0</td>\n",
              "      <td>0</td>\n",
              "      <td>0</td>\n",
              "      <td>0</td>\n",
              "      <td>1</td>\n",
              "      <td>7.3</td>\n",
              "      <td>1</td>\n",
              "      <td>1.2</td>\n",
              "      <td>1</td>\n",
              "      <td>57.0</td>\n",
              "      <td>1</td>\n",
              "      <td>1.28</td>\n",
              "      <td>1</td>\n",
              "      <td>44.0</td>\n",
              "      <td>0</td>\n",
              "    </tr>\n",
              "  </tbody>\n",
              "</table>\n",
              "</div>"
            ],
            "text/plain": [
              "   status   age  sex  on_thyroxine  ...   t4u  fti_measured   fti  tbg_measured\n",
              "0       1  72.0    0             0  ...  1.48             1  10.0             0\n",
              "1       1  15.0    1             1  ...  1.13             1  17.0             0\n",
              "2       1  24.0    0             0  ...  1.00             1   0.0             0\n",
              "3       1  24.0    1             0  ...  1.04             1   6.0             0\n",
              "4       1  77.0    0             0  ...  1.28             1  44.0             0\n",
              "\n",
              "[5 rows x 25 columns]"
            ]
          },
          "metadata": {
            "tags": []
          },
          "execution_count": 38
        }
      ]
    },
    {
      "cell_type": "code",
      "metadata": {
        "colab": {
          "base_uri": "https://localhost:8080/"
        },
        "id": "h9lPsnG7bujU",
        "outputId": "b1a4ebae-555f-400e-d337-ba37fc4429a4"
      },
      "source": [
        "#Select X and y\n",
        "X=health_df.drop('status', axis=1)\n",
        "y=health_df.status\n",
        "\n",
        "#Perorming LDA\n",
        "from sklearn.discriminant_analysis import LinearDiscriminantAnalysis as LDA\n",
        "lda=LDA()\n",
        "#Normalizing our data\n",
        "sc = StandardScaler()\n",
        "X_train =sc.fit_transform(X)\n",
        "X_test = sc.transform (X)\n",
        "\n",
        "X_lda=lda.fit(X,y)\n",
        "#Getting the coeffients\n",
        "X_lda.coef_"
      ],
      "execution_count": 39,
      "outputs": [
        {
          "output_type": "execute_result",
          "data": {
            "text/plain": [
              "array([[ 8.66548848e-03,  1.44723973e-01,  2.67232955e-01,\n",
              "        -7.42857960e-01, -1.00731903e+00,  1.20840896e+00,\n",
              "         2.86423466e-02,  8.93281120e-01, -9.32131336e-01,\n",
              "        -1.17349581e+00, -1.23580363e+00, -3.79231052e+00,\n",
              "         6.72911558e-01,  1.74728765e+00,  1.73573946e-01,\n",
              "         7.90364863e-02, -1.67323305e-01,  1.21318579e+00,\n",
              "        -7.03448504e-02, -2.58137804e+00,  7.93518959e+00,\n",
              "         8.69766251e+00,  1.73075549e-02,  6.78578129e+00]])"
            ]
          },
          "metadata": {
            "tags": []
          },
          "execution_count": 39
        }
      ]
    },
    {
      "cell_type": "code",
      "metadata": {
        "colab": {
          "base_uri": "https://localhost:8080/",
          "height": 0
        },
        "id": "0uSwx0j8cYpS",
        "outputId": "43e96b55-4b42-4dab-8fac-eb497dd7899b"
      },
      "source": [
        "#getting the columns names\n",
        "result=pd.DataFrame(index=X.columns.values,data=X_lda.coef_[0])\n",
        "result.sort_values(0,ascending=False)"
      ],
      "execution_count": 40,
      "outputs": [
        {
          "output_type": "execute_result",
          "data": {
            "text/html": [
              "<div>\n",
              "<style scoped>\n",
              "    .dataframe tbody tr th:only-of-type {\n",
              "        vertical-align: middle;\n",
              "    }\n",
              "\n",
              "    .dataframe tbody tr th {\n",
              "        vertical-align: top;\n",
              "    }\n",
              "\n",
              "    .dataframe thead th {\n",
              "        text-align: right;\n",
              "    }\n",
              "</style>\n",
              "<table border=\"1\" class=\"dataframe\">\n",
              "  <thead>\n",
              "    <tr style=\"text-align: right;\">\n",
              "      <th></th>\n",
              "      <th>0</th>\n",
              "    </tr>\n",
              "  </thead>\n",
              "  <tbody>\n",
              "    <tr>\n",
              "      <th>fti_measured</th>\n",
              "      <td>8.697663</td>\n",
              "    </tr>\n",
              "    <tr>\n",
              "      <th>t4u</th>\n",
              "      <td>7.935190</td>\n",
              "    </tr>\n",
              "    <tr>\n",
              "      <th>tbg_measured</th>\n",
              "      <td>6.785781</td>\n",
              "    </tr>\n",
              "    <tr>\n",
              "      <th>tsh_measured</th>\n",
              "      <td>1.747288</td>\n",
              "    </tr>\n",
              "    <tr>\n",
              "      <th>tt4_measured</th>\n",
              "      <td>1.213186</td>\n",
              "    </tr>\n",
              "    <tr>\n",
              "      <th>thyroid_surgery</th>\n",
              "      <td>1.208409</td>\n",
              "    </tr>\n",
              "    <tr>\n",
              "      <th>query_hyperthyroid</th>\n",
              "      <td>0.893281</td>\n",
              "    </tr>\n",
              "    <tr>\n",
              "      <th>goitre</th>\n",
              "      <td>0.672912</td>\n",
              "    </tr>\n",
              "    <tr>\n",
              "      <th>on_thyroxine</th>\n",
              "      <td>0.267233</td>\n",
              "    </tr>\n",
              "    <tr>\n",
              "      <th>tsh</th>\n",
              "      <td>0.173574</td>\n",
              "    </tr>\n",
              "    <tr>\n",
              "      <th>sex</th>\n",
              "      <td>0.144724</td>\n",
              "    </tr>\n",
              "    <tr>\n",
              "      <th>t3_measured</th>\n",
              "      <td>0.079036</td>\n",
              "    </tr>\n",
              "    <tr>\n",
              "      <th>query_hypothyroid</th>\n",
              "      <td>0.028642</td>\n",
              "    </tr>\n",
              "    <tr>\n",
              "      <th>fti</th>\n",
              "      <td>0.017308</td>\n",
              "    </tr>\n",
              "    <tr>\n",
              "      <th>age</th>\n",
              "      <td>0.008665</td>\n",
              "    </tr>\n",
              "    <tr>\n",
              "      <th>tt4</th>\n",
              "      <td>-0.070345</td>\n",
              "    </tr>\n",
              "    <tr>\n",
              "      <th>t3</th>\n",
              "      <td>-0.167323</td>\n",
              "    </tr>\n",
              "    <tr>\n",
              "      <th>query_on_thyroxine</th>\n",
              "      <td>-0.742858</td>\n",
              "    </tr>\n",
              "    <tr>\n",
              "      <th>pregnant</th>\n",
              "      <td>-0.932131</td>\n",
              "    </tr>\n",
              "    <tr>\n",
              "      <th>on_antithyroid_medication</th>\n",
              "      <td>-1.007319</td>\n",
              "    </tr>\n",
              "    <tr>\n",
              "      <th>sick</th>\n",
              "      <td>-1.173496</td>\n",
              "    </tr>\n",
              "    <tr>\n",
              "      <th>tumor</th>\n",
              "      <td>-1.235804</td>\n",
              "    </tr>\n",
              "    <tr>\n",
              "      <th>t4u_measured</th>\n",
              "      <td>-2.581378</td>\n",
              "    </tr>\n",
              "    <tr>\n",
              "      <th>lithium</th>\n",
              "      <td>-3.792311</td>\n",
              "    </tr>\n",
              "  </tbody>\n",
              "</table>\n",
              "</div>"
            ],
            "text/plain": [
              "                                  0\n",
              "fti_measured               8.697663\n",
              "t4u                        7.935190\n",
              "tbg_measured               6.785781\n",
              "tsh_measured               1.747288\n",
              "tt4_measured               1.213186\n",
              "thyroid_surgery            1.208409\n",
              "query_hyperthyroid         0.893281\n",
              "goitre                     0.672912\n",
              "on_thyroxine               0.267233\n",
              "tsh                        0.173574\n",
              "sex                        0.144724\n",
              "t3_measured                0.079036\n",
              "query_hypothyroid          0.028642\n",
              "fti                        0.017308\n",
              "age                        0.008665\n",
              "tt4                       -0.070345\n",
              "t3                        -0.167323\n",
              "query_on_thyroxine        -0.742858\n",
              "pregnant                  -0.932131\n",
              "on_antithyroid_medication -1.007319\n",
              "sick                      -1.173496\n",
              "tumor                     -1.235804\n",
              "t4u_measured              -2.581378\n",
              "lithium                   -3.792311"
            ]
          },
          "metadata": {
            "tags": []
          },
          "execution_count": 40
        }
      ]
    },
    {
      "cell_type": "markdown",
      "metadata": {
        "id": "54TQ2lU_c1mI"
      },
      "source": [
        "# Modelling"
      ]
    },
    {
      "cell_type": "markdown",
      "metadata": {
        "id": "iozgToi6eNNj"
      },
      "source": [
        "## Random Forest Classification"
      ]
    },
    {
      "cell_type": "code",
      "metadata": {
        "colab": {
          "base_uri": "https://localhost:8080/"
        },
        "id": "TavOMJWqcb-d",
        "outputId": "16eb79b4-59e0-4232-9f92-6eff5121ea17"
      },
      "source": [
        "#Split X and y\n",
        "X=health_df.drop('status', axis=1)\n",
        "y=health_df.status\n",
        "\n",
        "#Train_test. Our training size shall be 80% of the data\n",
        "X_train, X_test, y_train, y_test = train_test_split(X, y, test_size=0.2, random_state=0)\n",
        "\n",
        "#Scalling\n",
        "from sklearn.preprocessing import StandardScaler\n",
        "sc = StandardScaler()\n",
        "X_train =sc.fit_transform(X_train)\n",
        "X_test = sc.transform (X_test)\n",
        "\n",
        "#Modelling\n",
        "forest= RandomForestClassifier(n_estimators = 100, random_state = 42,min_samples_split = 10, max_depth=5)\n",
        "forest.fit(X_train, y_train)\n",
        "\n",
        "# Predict based on the model we've trained\n",
        "y_pred = forest.predict(X_test)\n",
        "#Check for the acccurancy of our model\n",
        "accuracy_score=accuracy_score(y_test,y_pred)\n",
        "accuracy_score\n",
        "#We have gotten an accurancy score of 98.67% which is quite good for our model."
      ],
      "execution_count": 41,
      "outputs": [
        {
          "output_type": "execute_result",
          "data": {
            "text/plain": [
              "0.9867109634551495"
            ]
          },
          "metadata": {
            "tags": []
          },
          "execution_count": 41
        }
      ]
    },
    {
      "cell_type": "code",
      "metadata": {
        "colab": {
          "base_uri": "https://localhost:8080/"
        },
        "id": "nsA5IShye3Ed",
        "outputId": "7876e01b-4899-4081-f01e-3bc06b8e28a8"
      },
      "source": [
        "#Check the confussion metrix to determine how many were true possitive\n",
        "confusion_matrix=confusion_matrix(y_test, y_pred)\n",
        "confusion_matrix"
      ],
      "execution_count": 42,
      "outputs": [
        {
          "output_type": "execute_result",
          "data": {
            "text/plain": [
              "array([[576,   1],\n",
              "       [  7,  18]])"
            ]
          },
          "metadata": {
            "tags": []
          },
          "execution_count": 42
        }
      ]
    },
    {
      "cell_type": "code",
      "metadata": {
        "colab": {
          "base_uri": "https://localhost:8080/"
        },
        "id": "WE8d2GZphIH6",
        "outputId": "cca1a712-cec4-4ec5-f08e-6a9e2549b660"
      },
      "source": [
        "#To learn how well our model is we shall check how it performed with our train test\n",
        "from sklearn.metrics import confusion_matrix, accuracy_score\n",
        "y_train_pred=forest.predict(X_train)\n",
        "accuracy_score_train=accuracy_score(y_train,y_train_pred)\n",
        "accuracy_score_train\n",
        "#the accurancy score of training set is 98.91%."
      ],
      "execution_count": 43,
      "outputs": [
        {
          "output_type": "execute_result",
          "data": {
            "text/plain": [
              "0.9891891891891892"
            ]
          },
          "metadata": {
            "tags": []
          },
          "execution_count": 43
        }
      ]
    },
    {
      "cell_type": "code",
      "metadata": {
        "colab": {
          "base_uri": "https://localhost:8080/"
        },
        "id": "RcO-MsJQnN4g",
        "outputId": "f8c73acd-cce4-4eee-9931-4665141cf0d8"
      },
      "source": [
        "#Check the confussion metrix to determine how many were true possitive\n",
        "from sklearn.metrics import confusion_matrix, accuracy_score\n",
        "confusion_matrix=confusion_matrix(y_train, y_train_pred)\n",
        "confusion_matrix"
      ],
      "execution_count": 44,
      "outputs": [
        {
          "output_type": "execute_result",
          "data": {
            "text/plain": [
              "array([[2282,    7],\n",
              "       [  19,   97]])"
            ]
          },
          "metadata": {
            "tags": []
          },
          "execution_count": 44
        }
      ]
    },
    {
      "cell_type": "code",
      "metadata": {
        "colab": {
          "base_uri": "https://localhost:8080/",
          "height": 623
        },
        "id": "ISWOIdodhjKu",
        "outputId": "78499f83-6d98-488e-8e27-7e00b3399577"
      },
      "source": [
        "from sklearn.tree import export_graphviz\n",
        "from sklearn.externals.six import StringIO  \n",
        "from IPython.display import Image  \n",
        "import pydotplus\n",
        "\n",
        "dot_data = StringIO()\n",
        "# pick a specific tree from the forest\n",
        "tree = forest.estimators_[50]\n",
        "\n",
        "export_graphviz(tree, out_file=dot_data,  \n",
        "                filled=True, rounded=True,\n",
        "                special_characters=True,feature_names = X.columns)\n",
        "graph = pydotplus.graph_from_dot_data(dot_data.getvalue())  \n",
        "graph.write_png('hypothyroid_forest.png')\n",
        "Image(graph.create_png())"
      ],
      "execution_count": 45,
      "outputs": [
        {
          "output_type": "execute_result",
          "data": {
            "image/png": "[encoded data removed]",
            "text/plain": [
              "<IPython.core.display.Image object>"
            ]
          },
          "metadata": {
            "tags": []
          },
          "execution_count": 45
        }
      ]
    },
    {
      "cell_type": "code",
      "metadata": {
        "colab": {
          "base_uri": "https://localhost:8080/",
          "height": 505
        },
        "id": "A8tn0ITMjxdj",
        "outputId": "ab2fabb3-7e50-4f0f-ce6f-a02785883cf5"
      },
      "source": [
        "#gettting the features importance and plotting them in a bar graph\n",
        "pd.DataFrame({'Features' : X.columns, 'Importance' : forest.feature_importances_})\\\n",
        ".sort_values(by = 'Importance', ascending = True).set_index('Features')\\\n",
        ".plot.barh(title = 'Feature Importance for Random Forests',figsize = (10, 8), color = 'blue')\n",
        "plt.show()\n",
        "#From the graph it is evident that fti, tt4,tsh and t3 are the most important features during modeling."
      ],
      "execution_count": 46,
      "outputs": [
        {
          "output_type": "display_data",
          "data": {
            "image/png": "[encoded data removed]",
            "text/plain": [
              "<Figure size 720x576 with 1 Axes>"
            ]
          },
          "metadata": {
            "tags": [],
            "needs_background": "light"
          }
        }
      ]
    },
    {
      "cell_type": "markdown",
      "metadata": {
        "id": "SdR117NToE8n"
      },
      "source": [
        "### Hyperparameter Tuning"
      ]
    },
    {
      "cell_type": "code",
      "metadata": {
        "colab": {
          "base_uri": "https://localhost:8080/"
        },
        "id": "I_w4XjWmkQl3",
        "outputId": "106e8ae8-3344-40bb-ee03-974559298bc2"
      },
      "source": [
        "# Wes hall apply parameters to the model to see how it performs\n",
        "from sklearn.model_selection import RandomizedSearchCV\n",
        "# Create the random grid\n",
        "random_grid = {'n_estimators': (10,1000,10),\n",
        "               'max_features': ['auto','sqrt'],\n",
        "               'max_depth': [5,10,15,20],\n",
        "               'min_samples_split': [2,5,10]}\n",
        "#Using random forest classiffier\n",
        "randomForest=RandomForestClassifier()\n",
        "rf_random = RandomizedSearchCV(estimator = randomForest, param_distributions = random_grid, \n",
        "                               n_iter = 100, cv = 3, verbose=2, random_state=42, n_jobs = -1)\n",
        "# Fit the random search model\n",
        "rf_random.fit(X, y)\n",
        "print(f'The best parameters are: {rf_random.best_params_}')"
      ],
      "execution_count": 47,
      "outputs": [
        {
          "output_type": "stream",
          "text": [
            "Fitting 3 folds for each of 72 candidates, totalling 216 fits\n"
          ],
          "name": "stdout"
        },
        {
          "output_type": "stream",
          "text": [
            "[Parallel(n_jobs=-1)]: Using backend LokyBackend with 2 concurrent workers.\n",
            "[Parallel(n_jobs=-1)]: Done  37 tasks      | elapsed:   21.2s\n",
            "[Parallel(n_jobs=-1)]: Done 158 tasks      | elapsed:  1.6min\n"
          ],
          "name": "stderr"
        },
        {
          "output_type": "stream",
          "text": [
            "The best parameters are: {'n_estimators': 10, 'min_samples_split': 2, 'max_features': 'auto', 'max_depth': 10}\n"
          ],
          "name": "stdout"
        },
        {
          "output_type": "stream",
          "text": [
            "[Parallel(n_jobs=-1)]: Done 216 out of 216 | elapsed:  2.1min finished\n"
          ],
          "name": "stderr"
        }
      ]
    },
    {
      "cell_type": "code",
      "metadata": {
        "colab": {
          "base_uri": "https://localhost:8080/"
        },
        "id": "gNBf5jnwptBs",
        "outputId": "abd36903-f26d-46be-f74d-4b91d96fe42e"
      },
      "source": [
        "#Since now we have been able to get the best parameters we shall apply them to the model\n",
        "#From before we found out our most import features. We shall use 10 of them in this model\n",
        "X=health_df[['fti','tt4', 'tsh', 't3','t4u','age', 'tsh_measured', 'on_antithyroid_medication', 'thyroid_surgery', 'query_hypothyroid']]\n",
        "y=health_df.status\n",
        "\n",
        "#Train_test. Our training size shall be 80% of the data\n",
        "X_train, X_test, y_train, y_test = train_test_split(X, y, test_size=0.2, random_state=0)\n",
        "\n",
        "#Scalling\n",
        "from sklearn.preprocessing import StandardScaler\n",
        "sc = StandardScaler()\n",
        "X_train =sc.fit_transform(X_train)\n",
        "X_test = sc.transform (X_test)\n",
        "\n",
        "#Modelling\n",
        "forest= RandomForestClassifier(n_estimators = 10, random_state = 42,min_samples_split = 5, max_depth=20)\n",
        "forest.fit(X_train, y_train)\n",
        "\n",
        "# Predict based on the model we've trained\n",
        "y_pred = forest.predict(X_test)\n",
        "y_train_pred = forest.predict(X_train)\n",
        "#Check for the acccurancy of our model\n",
        "from sklearn.metrics import confusion_matrix, accuracy_score\n",
        "print(\"Confussion matrix for test data is\", confusion_matrix(y_test, y_pred))\n",
        "accuracy_score=accuracy_score(y_test,y_pred)\n",
        "accuracy_score"
      ],
      "execution_count": 48,
      "outputs": [
        {
          "output_type": "stream",
          "text": [
            "Confussion matrix for test data is [[575   2]\n",
            " [  3  22]]\n"
          ],
          "name": "stdout"
        },
        {
          "output_type": "execute_result",
          "data": {
            "text/plain": [
              "0.9916943521594684"
            ]
          },
          "metadata": {
            "tags": []
          },
          "execution_count": 48
        }
      ]
    },
    {
      "cell_type": "code",
      "metadata": {
        "colab": {
          "base_uri": "https://localhost:8080/"
        },
        "id": "aYU0SP6wr-He",
        "outputId": "60722135-b6c6-4917-f11b-9097ff8b9ba4"
      },
      "source": [
        "#Check how it performed on training data\n",
        "from sklearn.metrics import confusion_matrix, accuracy_score\n",
        "print(\"Accurancy of training data is\", accuracy_score(y_train, y_train_pred))\n",
        "print(\"Confussion matrix for training data is\", confusion_matrix(y_train, y_train_pred))"
      ],
      "execution_count": 49,
      "outputs": [
        {
          "output_type": "stream",
          "text": [
            "Accurancy of training data is 0.9958419958419958\n",
            "Confussion matrix for training data is [[2285    4]\n",
            " [   6  110]]\n"
          ],
          "name": "stdout"
        }
      ]
    },
    {
      "cell_type": "code",
      "metadata": {
        "colab": {
          "base_uri": "https://localhost:8080/"
        },
        "id": "k3yBGetuspLh",
        "outputId": "0f310c8d-a659-48ae-ac03-d4e0fd4a8ab5"
      },
      "source": [
        "X=health_df.drop('status', axis=1)\n",
        "y=health_df.status\n",
        "\n",
        "#lets check hoe the model performs with the best parameters with the whole datasets\n",
        "#Train_test. Our training size shall be 80% of the data\n",
        "X_train, X_test, y_train, y_test = train_test_split(X, y, test_size=0.2, random_state=0)\n",
        "\n",
        "#Scalling\n",
        "from sklearn.preprocessing import StandardScaler\n",
        "sc = StandardScaler()\n",
        "X_train =sc.fit_transform(X_train)\n",
        "X_test = sc.transform (X_test)\n",
        "\n",
        "#Modelling\n",
        "forest= RandomForestClassifier(n_estimators = 10, random_state = 42,min_samples_split = 5, max_depth=15)\n",
        "forest.fit(X_train, y_train)\n",
        "\n",
        "# Predict based on the model we've trained\n",
        "y_pred = forest.predict(X_test)\n",
        "y_train_pred = forest.predict(X_train)\n",
        "#Check for the acccurancy of our model\n",
        "from sklearn.metrics import confusion_matrix, accuracy_score\n",
        "accuracy_score=accuracy_score(y_test,y_pred)\n",
        "accuracy_score"
      ],
      "execution_count": 50,
      "outputs": [
        {
          "output_type": "execute_result",
          "data": {
            "text/plain": [
              "0.9867109634551495"
            ]
          },
          "metadata": {
            "tags": []
          },
          "execution_count": 50
        }
      ]
    },
    {
      "cell_type": "code",
      "metadata": {
        "colab": {
          "base_uri": "https://localhost:8080/"
        },
        "id": "K9mB-JemxrsM",
        "outputId": "bac6959e-78f1-4b7c-f37f-18b62f99c853"
      },
      "source": [
        "from sklearn.metrics import confusion_matrix, accuracy_score\n",
        "confusion_matrix=confusion_matrix(y_test, y_pred)\n",
        "confusion_matrix"
      ],
      "execution_count": 51,
      "outputs": [
        {
          "output_type": "execute_result",
          "data": {
            "text/plain": [
              "array([[574,   3],\n",
              "       [  5,  20]])"
            ]
          },
          "metadata": {
            "tags": []
          },
          "execution_count": 51
        }
      ]
    },
    {
      "cell_type": "code",
      "metadata": {
        "colab": {
          "base_uri": "https://localhost:8080/"
        },
        "id": "_od2BeCOx1Xr",
        "outputId": "6c893506-fd37-460d-ad8d-d8c138d2eec9"
      },
      "source": [
        "#performance for training\n",
        "from sklearn.metrics import confusion_matrix, accuracy_score\n",
        "print(\"Accurancy of training data is\", accuracy_score(y_train, y_train_pred))\n",
        "print(\"Confussion matrix for training data is\", confusion_matrix(y_train, y_train_pred))"
      ],
      "execution_count": 52,
      "outputs": [
        {
          "output_type": "stream",
          "text": [
            "Accurancy of training data is 0.9962577962577963\n",
            "Confussion matrix for training data is [[2286    3]\n",
            " [   6  110]]\n"
          ],
          "name": "stdout"
        }
      ]
    },
    {
      "cell_type": "markdown",
      "metadata": {
        "id": "V4aip7M4wbz-"
      },
      "source": [
        "### Gradient Boosted Trees"
      ]
    },
    {
      "cell_type": "code",
      "metadata": {
        "colab": {
          "base_uri": "https://localhost:8080/"
        },
        "id": "bApZOCEfyI9w",
        "outputId": "6546d019-5814-48bb-8b77-23f40ac84a64"
      },
      "source": [
        "#splitting x and y\n",
        "X=health_df.drop('status', axis=1)\n",
        "y=health_df.status\n",
        "\n",
        "#split, train and test\n",
        "X_train, X_test, y_train, y_test = train_test_split(X, y, test_size=0.2, random_state=42)\n",
        "\n",
        "# Performing standard scalar normalization to normalize our feature set.\n",
        "from sklearn.preprocessing import StandardScaler\n",
        "\n",
        "sc = StandardScaler()\n",
        "X_train =sc.fit_transform(X_train)\n",
        "X_test = sc.transform (X_test)\n",
        "\n",
        "#model\n",
        "gbc = GradientBoostingClassifier(loss='deviance',n_estimators=200, learning_rate=0.01, max_depth=5)\n",
        "gbc = gbc.fit(X_train, y_train)\n",
        "\n",
        "# Prediction\n",
        "y_gbc_pred = gbc.predict(X_test)\n",
        "\n",
        "#Check the metrics\n",
        "from sklearn.metrics import accuracy_score, confusion_matrix\n",
        "print(\"Confussion matrix for test data is\", confusion_matrix(y_test, y_pred))\n",
        "accuracy_score=accuracy_score(y_test,y_gbc_pred)\n",
        "accuracy_score"
      ],
      "execution_count": 53,
      "outputs": [
        {
          "output_type": "stream",
          "text": [
            "Confussion matrix for test data is [[550  22]\n",
            " [ 29   1]]\n"
          ],
          "name": "stdout"
        },
        {
          "output_type": "execute_result",
          "data": {
            "text/plain": [
              "0.9916943521594684"
            ]
          },
          "metadata": {
            "tags": []
          },
          "execution_count": 53
        }
      ]
    },
    {
      "cell_type": "code",
      "metadata": {
        "colab": {
          "base_uri": "https://localhost:8080/"
        },
        "id": "gcGSPbRHy7l_",
        "outputId": "b23f94df-b9be-42b6-ee4d-881a20c0b75c"
      },
      "source": [
        "#check the confusion metrix\n",
        "from sklearn.metrics import accuracy_score, confusion_matrix\n",
        "confusion_matrix=confusion_matrix(y_test,y_gbc_pred)\n",
        "confusion_matrix"
      ],
      "execution_count": 54,
      "outputs": [
        {
          "output_type": "execute_result",
          "data": {
            "text/plain": [
              "array([[571,   1],\n",
              "       [  4,  26]])"
            ]
          },
          "metadata": {
            "tags": []
          },
          "execution_count": 54
        }
      ]
    },
    {
      "cell_type": "code",
      "metadata": {
        "colab": {
          "base_uri": "https://localhost:8080/",
          "height": 505
        },
        "id": "06SNK6tJzkNP",
        "outputId": "dc19a7a8-5f9a-4c63-e13b-6e9a960f7587"
      },
      "source": [
        "#gettting the features importance and plotting them in a bar graph\n",
        "pd.DataFrame({'Features' : X.columns, 'Importance' : forest.feature_importances_})\\\n",
        ".sort_values(by = 'Importance', ascending = True).set_index('Features')\\\n",
        ".plot.barh(title = 'Feature Importance for Random Forests',figsize = (10, 8), color = 'blue')\n",
        "plt.show()"
      ],
      "execution_count": 55,
      "outputs": [
        {
          "output_type": "display_data",
          "data": {
            "image/png": "[encoded data removed]",
            "text/plain": [
              "<Figure size 720x576 with 1 Axes>"
            ]
          },
          "metadata": {
            "tags": [],
            "needs_background": "light"
          }
        }
      ]
    },
    {
      "cell_type": "markdown",
      "metadata": {
        "id": "vV1A1pvl0z0D"
      },
      "source": [
        "### Hyperparameter Tuning"
      ]
    },
    {
      "cell_type": "code",
      "metadata": {
        "colab": {
          "base_uri": "https://localhost:8080/"
        },
        "id": "yQKXVOSk0z0D",
        "outputId": "bec53d80-9297-4803-be48-4462ae2c798c"
      },
      "source": [
        "# We shall apply parameters to the model to see how it performs\n",
        "from sklearn.model_selection import RandomizedSearchCV\n",
        "# Create the random grid\n",
        "random_grid = {'n_estimators': (10,1000,10),\n",
        "               'max_features': ['auto','sqrt'],\n",
        "               'max_depth': [5,10,15,20],\n",
        "               'min_samples_split': [2,5,10]}\n",
        "#Using random forest classiffier\n",
        "gbc=GradientBoostingClassifier()\n",
        "rf_random = RandomizedSearchCV(estimator = gbc, param_distributions = random_grid, \n",
        "                               n_iter = 100, cv = 3, verbose=2, random_state=42, n_jobs = -1)\n",
        "# Fit the random search model\n",
        "rf_random.fit(X, y)\n",
        "print(f'The best parameters are: {rf_random.best_params_}')"
      ],
      "execution_count": 56,
      "outputs": [
        {
          "output_type": "stream",
          "text": [
            "Fitting 3 folds for each of 72 candidates, totalling 216 fits\n"
          ],
          "name": "stdout"
        },
        {
          "output_type": "stream",
          "text": [
            "[Parallel(n_jobs=-1)]: Using backend LokyBackend with 2 concurrent workers.\n",
            "[Parallel(n_jobs=-1)]: Done  45 tasks      | elapsed:   16.9s\n",
            "[Parallel(n_jobs=-1)]: Done 166 tasks      | elapsed:  1.2min\n",
            "[Parallel(n_jobs=-1)]: Done 216 out of 216 | elapsed:  1.7min finished\n"
          ],
          "name": "stderr"
        },
        {
          "output_type": "stream",
          "text": [
            "The best parameters are: {'n_estimators': 1000, 'min_samples_split': 2, 'max_features': 'sqrt', 'max_depth': 5}\n"
          ],
          "name": "stdout"
        }
      ]
    },
    {
      "cell_type": "code",
      "metadata": {
        "colab": {
          "base_uri": "https://localhost:8080/"
        },
        "id": "vJoTR7Mw0z0D",
        "outputId": "eb62f2a6-cd20-41ba-95cd-d4b18d5aa2b4"
      },
      "source": [
        "#Since now we have been able to get the best parameters we shall apply them to the model\n",
        "#From before we found out our most import features. We shall use 10 of them in this model\n",
        "X=health_df[['fti','tt4', 'tsh', 't3','t4u','age', 'tsh_measured', 'on_antithyroid_medication', 'thyroid_surgery', 'query_hypothyroid']]\n",
        "y=health_df.status\n",
        "\n",
        "#Train_test. Our training size shall be 80% of the data\n",
        "X_train, X_test, y_train, y_test = train_test_split(X, y, test_size=0.2, random_state=0)\n",
        "\n",
        "#Scalling\n",
        "from sklearn.preprocessing import StandardScaler\n",
        "sc = StandardScaler()\n",
        "X_train =sc.fit_transform(X_train)\n",
        "X_test = sc.transform (X_test)\n",
        "\n",
        "#Modelling\n",
        "forest= GradientBoostingClassifier(n_estimators = 1000, random_state = 42,min_samples_split = 2, max_depth=5)\n",
        "forest.fit(X_train, y_train)\n",
        "\n",
        "# Predict based on the model we've trained\n",
        "y_pred = forest.predict(X_test)\n",
        "y_train_pred = forest.predict(X_train)\n",
        "#Check for the acccurancy of our model\n",
        "from sklearn.metrics import confusion_matrix, accuracy_score\n",
        "print(\"Confussion matrix for test data is\", confusion_matrix(y_test, y_pred))\n",
        "accuracy_score=accuracy_score(y_test,y_pred)\n",
        "accuracy_score"
      ],
      "execution_count": 57,
      "outputs": [
        {
          "output_type": "stream",
          "text": [
            "Confussion matrix for test data is [[573   4]\n",
            " [  2  23]]\n"
          ],
          "name": "stdout"
        },
        {
          "output_type": "execute_result",
          "data": {
            "text/plain": [
              "0.9900332225913622"
            ]
          },
          "metadata": {
            "tags": []
          },
          "execution_count": 57
        }
      ]
    },
    {
      "cell_type": "code",
      "metadata": {
        "colab": {
          "base_uri": "https://localhost:8080/"
        },
        "id": "6vaV_bmk0z0E",
        "outputId": "0b564c8b-8d9a-49a6-ddfa-db246353c042"
      },
      "source": [
        "#Check how it performed on training data\n",
        "from sklearn.metrics import confusion_matrix, accuracy_score\n",
        "print(\"Accurancy of training data is\", accuracy_score(y_train, y_train_pred))\n",
        "print(\"Confussion matrix for training data is\", confusion_matrix(y_train, y_train_pred))"
      ],
      "execution_count": 58,
      "outputs": [
        {
          "output_type": "stream",
          "text": [
            "Accurancy of training data is 1.0\n",
            "Confussion matrix for training data is [[2289    0]\n",
            " [   0  116]]\n"
          ],
          "name": "stdout"
        }
      ]
    },
    {
      "cell_type": "code",
      "metadata": {
        "colab": {
          "base_uri": "https://localhost:8080/"
        },
        "id": "LXEzzxPN0z0E",
        "outputId": "d524ca5b-a259-42b0-c77f-3c87ebc657bf"
      },
      "source": [
        "X=health_df.drop('status', axis=1)\n",
        "y=health_df.status\n",
        "\n",
        "#lets check hoe the model performs with the best parameters with the whole datasets\n",
        "#Train_test. Our training size shall be 80% of the data\n",
        "X_train, X_test, y_train, y_test = train_test_split(X, y, test_size=0.2, random_state=0)\n",
        "\n",
        "#Scalling\n",
        "from sklearn.preprocessing import StandardScaler\n",
        "sc = StandardScaler()\n",
        "X_train =sc.fit_transform(X_train)\n",
        "X_test = sc.transform (X_test)\n",
        "\n",
        "#Modelling\n",
        "forest= RandomForestClassifier(n_estimators = 1000, random_state = 42,min_samples_split = 2, max_depth=5)\n",
        "forest.fit(X_train, y_train)\n",
        "\n",
        "# Predict based on the model we've trained\n",
        "y_pred = forest.predict(X_test)\n",
        "y_train_pred = forest.predict(X_train)\n",
        "#Check for the acccurancy of our model\n",
        "from sklearn.metrics import confusion_matrix, accuracy_score\n",
        "accuracy_score=accuracy_score(y_test,y_pred)\n",
        "accuracy_score"
      ],
      "execution_count": 59,
      "outputs": [
        {
          "output_type": "execute_result",
          "data": {
            "text/plain": [
              "0.9850498338870431"
            ]
          },
          "metadata": {
            "tags": []
          },
          "execution_count": 59
        }
      ]
    },
    {
      "cell_type": "code",
      "metadata": {
        "colab": {
          "base_uri": "https://localhost:8080/"
        },
        "id": "eOdEc21O0z0E",
        "outputId": "9a0c8e7c-d12b-410a-befe-991f4769a6ed"
      },
      "source": [
        "from sklearn.metrics import confusion_matrix, accuracy_score\n",
        "confusion_matrix=confusion_matrix(y_test, y_pred)\n",
        "confusion_matrix"
      ],
      "execution_count": 60,
      "outputs": [
        {
          "output_type": "execute_result",
          "data": {
            "text/plain": [
              "array([[575,   2],\n",
              "       [  7,  18]])"
            ]
          },
          "metadata": {
            "tags": []
          },
          "execution_count": 60
        }
      ]
    },
    {
      "cell_type": "code",
      "metadata": {
        "colab": {
          "base_uri": "https://localhost:8080/"
        },
        "id": "EdJ3agpd0z0E",
        "outputId": "1fd02659-36c3-4559-a55c-558991df5b79"
      },
      "source": [
        "#performance for training\n",
        "from sklearn.metrics import confusion_matrix, accuracy_score\n",
        "print(\"Accurancy of training data is\", accuracy_score(y_train, y_train_pred))\n",
        "print(\"Confussion matrix for training data is\", confusion_matrix(y_train, y_train_pred))"
      ],
      "execution_count": 61,
      "outputs": [
        {
          "output_type": "stream",
          "text": [
            "Accurancy of training data is 0.9891891891891892\n",
            "Confussion matrix for training data is [[2282    7]\n",
            " [  19   97]]\n"
          ],
          "name": "stdout"
        }
      ]
    },
    {
      "cell_type": "markdown",
      "metadata": {
        "id": "ALwRyBbs3P6P"
      },
      "source": [
        "### Observations:\n"
      ]
    },
    {
      "cell_type": "code",
      "metadata": {
        "id": "RUuU8J6cKojF"
      },
      "source": [
        "#The accurancy score of the first model was 98.67% with 576 true postive and 18 true negative. \n",
        "# When hyperparametric tuning was applied the accurancy score increased to 99.67% and the number of true positive were 574 20.\n",
        "# however, the best performing model was when 10 important features are the only one used to train the model.\n",
        "#When gradient boosted was applied the accurancy score was quite high than before, 99% and correct predictions were(570, 26). "
      ],
      "execution_count": 62,
      "outputs": []
    },
    {
      "cell_type": "markdown",
      "metadata": {
        "id": "sVTDlWC93UHe"
      },
      "source": [
        "## Support Vector Machines"
      ]
    },
    {
      "cell_type": "code",
      "metadata": {
        "id": "HCQybV0D3LKD"
      },
      "source": [
        "#Splitting the dataset\n",
        "X=health_df.drop('status', axis=1)\n",
        "y=health_df.status\n",
        "\n",
        "# split, test, train.\n",
        "X_train, X_test, y_train, y_test = train_test_split(X, y, test_size=0.2, random_state=42)\n",
        "\n",
        "#standardize\n",
        "sc = StandardScaler()\n",
        "X_train = sc.fit_transform(X_train)\n",
        "X_test = sc.transform(X_test)"
      ],
      "execution_count": 63,
      "outputs": []
    },
    {
      "cell_type": "markdown",
      "metadata": {
        "id": "_QiYIAP28B6-"
      },
      "source": [
        "### Fitting the model: Linear Kernel"
      ]
    },
    {
      "cell_type": "code",
      "metadata": {
        "colab": {
          "base_uri": "https://localhost:8080/"
        },
        "id": "iEgwqlkI8Be7",
        "outputId": "94d7dcc8-20cb-4f02-9468-16e64c06b984"
      },
      "source": [
        "#fitting the linear kernel\n",
        "model = SVC(kernel= 'linear')\n",
        "model.fit(X_train,y_train)\n",
        "\n",
        "#Predictions\n",
        "y_pred=model.predict(X_test)\n",
        "\n",
        "#Evaluate the model\n",
        "from sklearn.metrics import accuracy_score, confusion_matrix\n",
        "print(accuracy_score(y_test,y_pred))\n",
        "confusion_matrix=confusion_matrix(y_test,y_pred)\n",
        "confusion_matrix"
      ],
      "execution_count": 64,
      "outputs": [
        {
          "output_type": "stream",
          "text": [
            "0.9850498338870431\n"
          ],
          "name": "stdout"
        },
        {
          "output_type": "execute_result",
          "data": {
            "text/plain": [
              "array([[572,   0],\n",
              "       [  9,  21]])"
            ]
          },
          "metadata": {
            "tags": []
          },
          "execution_count": 64
        }
      ]
    },
    {
      "cell_type": "code",
      "metadata": {
        "colab": {
          "base_uri": "https://localhost:8080/"
        },
        "id": "b4dtzscr80-S",
        "outputId": "b63899b0-5a5c-4e74-a868-ad9bf78e4916"
      },
      "source": [
        "#Check performance of training data\n",
        "y_train_pred=model.predict(X_train)\n",
        "from sklearn.metrics import accuracy_score, confusion_matrix\n",
        "print(accuracy_score(y_train,y_train_pred))\n",
        "confusion_matrix=confusion_matrix(y_train,y_train_pred)\n",
        "confusion_matrix"
      ],
      "execution_count": 65,
      "outputs": [
        {
          "output_type": "stream",
          "text": [
            "0.9833679833679834\n"
          ],
          "name": "stdout"
        },
        {
          "output_type": "execute_result",
          "data": {
            "text/plain": [
              "array([[2284,   10],\n",
              "       [  30,   81]])"
            ]
          },
          "metadata": {
            "tags": []
          },
          "execution_count": 65
        }
      ]
    },
    {
      "cell_type": "markdown",
      "metadata": {
        "id": "WNPNeRAY9Xuh"
      },
      "source": [
        "### Fitting the model: Polynomial Kernel"
      ]
    },
    {
      "cell_type": "code",
      "metadata": {
        "id": "gAd9S5lv9U91",
        "colab": {
          "base_uri": "https://localhost:8080/"
        },
        "outputId": "8c670f0c-5172-4f4e-9ca0-2a9d9ceaa557"
      },
      "source": [
        "# Building the model \n",
        "polyclassifier = SVC(kernel='poly',degree=3,gamma='auto')\n",
        "# Training the model using the training set\n",
        "polyclassifier.fit(X_train, y_train)\n",
        "\n",
        "#Predictions\n",
        "y_pred=polyclassifier.predict(X_test)\n",
        "\n",
        "#Evaluate the model\n",
        "from sklearn.metrics import accuracy_score, confusion_matrix\n",
        "print(accuracy_score(y_test,y_pred))\n",
        "confusion_matrix=confusion_matrix(y_test,y_pred)\n",
        "confusion_matrix"
      ],
      "execution_count": 66,
      "outputs": [
        {
          "output_type": "stream",
          "text": [
            "0.96843853820598\n"
          ],
          "name": "stdout"
        },
        {
          "output_type": "execute_result",
          "data": {
            "text/plain": [
              "array([[572,   0],\n",
              "       [ 19,  11]])"
            ]
          },
          "metadata": {
            "tags": []
          },
          "execution_count": 66
        }
      ]
    },
    {
      "cell_type": "code",
      "metadata": {
        "id": "UC1kcJXV9d3m",
        "colab": {
          "base_uri": "https://localhost:8080/"
        },
        "outputId": "41de2374-d7c3-46b2-eb21-ac7849aabbd5"
      },
      "source": [
        "#Check performance of training data\n",
        "y_train_pred=polyclassifier.predict(X_train)\n",
        "from sklearn.metrics import accuracy_score, confusion_matrix\n",
        "print(accuracy_score(y_train,y_train_pred))\n",
        "confusion_matrix=confusion_matrix(y_train,y_train_pred)\n",
        "confusion_matrix"
      ],
      "execution_count": 67,
      "outputs": [
        {
          "output_type": "stream",
          "text": [
            "0.9792099792099792\n"
          ],
          "name": "stdout"
        },
        {
          "output_type": "execute_result",
          "data": {
            "text/plain": [
              "array([[2290,    4],\n",
              "       [  46,   65]])"
            ]
          },
          "metadata": {
            "tags": []
          },
          "execution_count": 67
        }
      ]
    },
    {
      "cell_type": "markdown",
      "metadata": {
        "id": "ltdUiWGivA6a"
      },
      "source": [
        "### Fitting the model: Radial basis function (rbf)"
      ]
    },
    {
      "cell_type": "code",
      "metadata": {
        "id": "KtraOVokvID5",
        "colab": {
          "base_uri": "https://localhost:8080/"
        },
        "outputId": "62f2c5f0-17e4-407f-8e38-a1690c687380"
      },
      "source": [
        "# Building the model \n",
        "rbfclassifier = SVC(kernel='rbf')\n",
        "# Training the model using the training set\n",
        "rbfclassifier.fit(X_train, y_train)\n",
        "\n",
        "# making prediction\n",
        "y_pred_rbf = rbfclassifier.predict(X_test)\n",
        "\n",
        "# Model Evaluation\n",
        "from sklearn.metrics import accuracy_score, confusion_matrix\n",
        "print( accuracy_score(y_test, y_pred))\n",
        "print(confusion_matrix(y_test, y_pred))"
      ],
      "execution_count": 68,
      "outputs": [
        {
          "output_type": "stream",
          "text": [
            "0.96843853820598\n",
            "[[572   0]\n",
            " [ 19  11]]\n"
          ],
          "name": "stdout"
        }
      ]
    },
    {
      "cell_type": "code",
      "metadata": {
        "id": "GPpmLI3lwVvz",
        "colab": {
          "base_uri": "https://localhost:8080/"
        },
        "outputId": "e5e8b597-95ba-4c90-b620-3535e04b7d79"
      },
      "source": [
        "#Evaluate the train\n",
        "y_train_pred_rbf=rbfclassifier.predict(X_train)\n",
        "# Model Evaluation\n",
        "from sklearn.metrics import accuracy_score, confusion_matrix\n",
        "print( accuracy_score(y_train, y_train_pred_rbf))\n",
        "print(confusion_matrix(y_train, y_train_pred_rbf))"
      ],
      "execution_count": 69,
      "outputs": [
        {
          "output_type": "stream",
          "text": [
            "0.9846153846153847\n",
            "[[2286    8]\n",
            " [  29   82]]\n"
          ],
          "name": "stdout"
        }
      ]
    },
    {
      "cell_type": "markdown",
      "metadata": {
        "id": "jA-gzWNCw19o"
      },
      "source": [
        "### Fitting the model: Sigmoid function"
      ]
    },
    {
      "cell_type": "code",
      "metadata": {
        "id": "UUOnK1Zbw_aY",
        "colab": {
          "base_uri": "https://localhost:8080/"
        },
        "outputId": "8cf4f944-55eb-4a78-d927-d4da0276cdc1"
      },
      "source": [
        "# Building the model \n",
        "sigclassifier = SVC(kernel='sigmoid')\n",
        "# Training the model using the training set\n",
        "sigclassifier.fit(X_train, y_train)\n",
        "\n",
        "# making prediction\n",
        "y_pred = sigclassifier.predict(X_test)\n",
        "\n",
        "# Model Evaluation\n",
        "from sklearn.metrics import accuracy_score, confusion_matrix\n",
        "print( accuracy_score(y_test, y_pred))\n",
        "print(confusion_matrix(y_test, y_pred))"
      ],
      "execution_count": 70,
      "outputs": [
        {
          "output_type": "stream",
          "text": [
            "0.9750830564784053\n",
            "[[564   8]\n",
            " [  7  23]]\n"
          ],
          "name": "stdout"
        }
      ]
    },
    {
      "cell_type": "code",
      "metadata": {
        "colab": {
          "base_uri": "https://localhost:8080/"
        },
        "id": "BUGbIm_B_kHT",
        "outputId": "c224e1cd-adcc-445b-ddef-92633137f3d1"
      },
      "source": [
        "#Evaluate the train\n",
        "y_train_pred_sigmoid=sigclassifier.predict(X_train)\n",
        "# Model Evaluation\n",
        "from sklearn.metrics import accuracy_score, confusion_matrix\n",
        "print( accuracy_score(y_train, y_train_pred_sigmoid))\n",
        "print(confusion_matrix(y_train, y_train_pred_sigmoid))"
      ],
      "execution_count": 71,
      "outputs": [
        {
          "output_type": "stream",
          "text": [
            "0.9758835758835759\n",
            "[[2269   25]\n",
            " [  33   78]]\n"
          ],
          "name": "stdout"
        }
      ]
    },
    {
      "cell_type": "markdown",
      "metadata": {
        "id": "i7CRlPYnH-R0"
      },
      "source": [
        "### Hyperparametric tuning"
      ]
    },
    {
      "cell_type": "code",
      "metadata": {
        "colab": {
          "base_uri": "https://localhost:8080/"
        },
        "id": "BXLroMpvAfNm",
        "outputId": "0c89a526-de6f-4cd1-8669-275dc60da656"
      },
      "source": [
        "#Define parameters to be used\n",
        "parameters={'C': [0.1, 1, 10, 100, 1000],  \n",
        "              'gamma': [1, 0.1, 0.01, 0.001, 0.0001], \n",
        "              'kernel': ['rbf','sigmoid']\n",
        "            }\n",
        "#We shall employ randomsearchcv\n",
        "from sklearn.model_selection import RandomizedSearchCV\n",
        "#Using random forest classiffier\n",
        "svc=SVC()\n",
        "rf_random = RandomizedSearchCV(estimator = svc, param_distributions = parameters, \n",
        "                               n_iter = 100, cv = 3, verbose=2, random_state=42, n_jobs = -1)\n",
        "# Fit the random search model\n",
        "rf_random.fit(X, y)\n",
        "print(f'The best parameters are: {rf_random.best_params_}')"
      ],
      "execution_count": 72,
      "outputs": [
        {
          "output_type": "stream",
          "text": [
            "Fitting 3 folds for each of 50 candidates, totalling 150 fits\n"
          ],
          "name": "stdout"
        },
        {
          "output_type": "stream",
          "text": [
            "[Parallel(n_jobs=-1)]: Using backend LokyBackend with 2 concurrent workers.\n",
            "[Parallel(n_jobs=-1)]: Done  44 tasks      | elapsed:    5.2s\n"
          ],
          "name": "stderr"
        },
        {
          "output_type": "stream",
          "text": [
            "The best parameters are: {'kernel': 'rbf', 'gamma': 0.0001, 'C': 100}\n"
          ],
          "name": "stdout"
        },
        {
          "output_type": "stream",
          "text": [
            "[Parallel(n_jobs=-1)]: Done 150 out of 150 | elapsed:   14.8s finished\n"
          ],
          "name": "stderr"
        }
      ]
    },
    {
      "cell_type": "code",
      "metadata": {
        "colab": {
          "base_uri": "https://localhost:8080/"
        },
        "id": "XFMHwIrdH9aq",
        "outputId": "784397dc-7d04-4993-d76a-914a8f18c34c"
      },
      "source": [
        "#Lets now apply the best parameters to our model\n",
        "#Splitting the dataset\n",
        "X=health_df.drop('status', axis=1)\n",
        "y=health_df.status\n",
        "\n",
        "# split, test, train.\n",
        "X_train, X_test, y_train, y_test = train_test_split(X, y, test_size=0.2, random_state=42)\n",
        "\n",
        "#standardize\n",
        "sc = StandardScaler()\n",
        "X_train = sc.fit_transform(X_train)\n",
        "X_test = sc.transform(X_test)\n",
        "\n",
        "#Fit the model\n",
        "#The best model is rbf \n",
        "model = SVC(kernel= 'rbf', C=100, gamma=0.0001, degree=3)\n",
        "model.fit(X_train, y_train)\n",
        "\n",
        "#Make prediction\n",
        "y_pred=model.predict(X_test)\n",
        "#Evaluate the model\n",
        "from sklearn.metrics import accuracy_score, confusion_matrix\n",
        "print(accuracy_score(y_test,y_pred))\n",
        "confusion_matrix=confusion_matrix(y_test,y_pred)\n",
        "confusion_matrix"
      ],
      "execution_count": 73,
      "outputs": [
        {
          "output_type": "stream",
          "text": [
            "0.9717607973421927\n"
          ],
          "name": "stdout"
        },
        {
          "output_type": "execute_result",
          "data": {
            "text/plain": [
              "array([[571,   1],\n",
              "       [ 16,  14]])"
            ]
          },
          "metadata": {
            "tags": []
          },
          "execution_count": 73
        }
      ]
    },
    {
      "cell_type": "code",
      "metadata": {
        "colab": {
          "base_uri": "https://localhost:8080/"
        },
        "id": "658KjJe6Pfm5",
        "outputId": "0781dfd4-1e56-405e-9c11-fcb1615c0f7b"
      },
      "source": [
        "#Check performance of training data\n",
        "y_train_pred=model.predict(X_train)\n",
        "from sklearn.metrics import accuracy_score, confusion_matrix\n",
        "print(accuracy_score(y_train,y_train_pred))\n",
        "confusion_matrix=confusion_matrix(y_train,y_train_pred)\n",
        "confusion_matrix"
      ],
      "execution_count": 74,
      "outputs": [
        {
          "output_type": "stream",
          "text": [
            "0.9804573804573805\n"
          ],
          "name": "stdout"
        },
        {
          "output_type": "execute_result",
          "data": {
            "text/plain": [
              "array([[2287,    7],\n",
              "       [  40,   71]])"
            ]
          },
          "metadata": {
            "tags": []
          },
          "execution_count": 74
        }
      ]
    },
    {
      "cell_type": "markdown",
      "metadata": {
        "id": "lsnOahZ9AUNo"
      },
      "source": [
        "### Observations"
      ]
    },
    {
      "cell_type": "code",
      "metadata": {
        "id": "-4TQBeFgDZxt"
      },
      "source": [
        "#We have performed all the types of kernel models. The best was rbf kernel with the best accurancy score. This was also confirmed during the hyperparameters tuning. \n",
        "#The worst performing was sigmoind kernel with the lowest accurancy score.  "
      ],
      "execution_count": 75,
      "outputs": []
    },
    {
      "cell_type": "markdown",
      "metadata": {
        "id": "vMg2sw3PRJrM"
      },
      "source": [
        "# Conclusion"
      ]
    },
    {
      "cell_type": "markdown",
      "metadata": {
        "id": "zOTbdYuqchuQ"
      },
      "source": [
        "1. After performing all the models, gradient boosted classifier performed the best. Its accurancy score (99.16%) and nmber of confusion score  was the highest.\n",
        "2. During the hyperparameters tuning and using the ten important eatures was are able to achieve the highest score."
      ]
    },
    {
      "cell_type": "markdown",
      "metadata": {
        "id": "yyEF-okjcHGI"
      },
      "source": [
        "## Challenge your solution\n"
      ]
    },
    {
      "cell_type": "markdown",
      "metadata": {
        "id": "5tUSpSH2cNqA"
      },
      "source": [
        "**Did we have the correct data?**\n",
        "Yes we did. The data provided was the right data as it has provided us with the correct features to help predict if a patient suffers from hypothyroid or not.\n"
      ]
    }
  ]
}